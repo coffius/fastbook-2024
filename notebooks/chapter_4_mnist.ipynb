{
 "cells": [
  {
   "cell_type": "markdown",
   "metadata": {},
   "source": [
    "*[Notebook is based on the code from the chapter 4 of the book](https://colab.research.google.com/github/fastai/fastbook/blob/master/04_mnist_basics.ipynb)*  \n",
    "Text from the book is omitted in this notebook. Please the link ☝ to read the book's content."
   ]
  },
  {
   "cell_type": "code",
   "execution_count": 1,
   "metadata": {},
   "outputs": [],
   "source": [
    "import fastbook\n",
    "fastbook.setup_book()\n",
    "\n",
    "from fastai.vision.all import *\n",
    "from fastbook import *"
   ]
  },
  {
   "cell_type": "markdown",
   "metadata": {},
   "source": [
    "Load MNIST"
   ]
  },
  {
   "cell_type": "code",
   "execution_count": 2,
   "metadata": {},
   "outputs": [
    {
     "name": "stdout",
     "output_type": "stream",
     "text": [
      "C:\\Users\\User\\.fastai\\data\\mnist_sample\n",
      "[Path('C:/Users/User/.fastai/data/mnist_sample/labels.csv'), Path('C:/Users/User/.fastai/data/mnist_sample/train'), Path('C:/Users/User/.fastai/data/mnist_sample/valid')]\n"
     ]
    }
   ],
   "source": [
    "path = untar_data(URLs.MNIST_SAMPLE)\n",
    "print(path)\n",
    "print(path.ls())"
   ]
  },
  {
   "cell_type": "markdown",
   "metadata": {},
   "source": [
    "Threes and sevens"
   ]
  },
  {
   "cell_type": "code",
   "execution_count": 3,
   "metadata": {},
   "outputs": [
    {
     "name": "stdout",
     "output_type": "stream",
     "text": [
      "[Path('C:/Users/User/.fastai/data/mnist_sample/train/3/10.png'), Path('C:/Users/User/.fastai/data/mnist_sample/train/3/10000.png'), Path('C:/Users/User/.fastai/data/mnist_sample/train/3/10011.png'), Path('C:/Users/User/.fastai/data/mnist_sample/train/3/10031.png'), Path('C:/Users/User/.fastai/data/mnist_sample/train/3/10034.png')]\n",
      "[Path('C:/Users/User/.fastai/data/mnist_sample/train/7/10002.png'), Path('C:/Users/User/.fastai/data/mnist_sample/train/7/1001.png'), Path('C:/Users/User/.fastai/data/mnist_sample/train/7/10014.png'), Path('C:/Users/User/.fastai/data/mnist_sample/train/7/10019.png'), Path('C:/Users/User/.fastai/data/mnist_sample/train/7/10039.png')]\n"
     ]
    }
   ],
   "source": [
    "threes = (path/'train'/'3').ls().sorted()\n",
    "sevens = (path/'train'/'7').ls().sorted()\n",
    "print(threes[:5]) # Paths to first 5 threes\n",
    "print(sevens[:5]) # Paths to first 5 sevens"
   ]
  },
  {
   "cell_type": "markdown",
   "metadata": {},
   "source": [
    "Example"
   ]
  },
  {
   "cell_type": "code",
   "execution_count": 4,
   "metadata": {},
   "outputs": [
    {
     "data": {
      "image/jpeg": "[encoded data removed]",
      "image/png": "[encoded data removed]",
      "text/plain": [
       "<PIL.PngImagePlugin.PngImageFile image mode=L size=28x28>"
      ]
     },
     "execution_count": 4,
     "metadata": {},
     "output_type": "execute_result"
    }
   ],
   "source": [
    "im3_path = threes[1]\n",
    "im3 = Image.open(im3_path)\n",
    "im3"
   ]
  },
  {
   "cell_type": "markdown",
   "metadata": {},
   "source": [
    "Image as an array"
   ]
  },
  {
   "cell_type": "code",
   "execution_count": 5,
   "metadata": {},
   "outputs": [
    {
     "data": {
      "text/plain": [
       "array([[  0,   0,   0,   0,   0,   0],\n",
       "       [  0,   0,   0,   0,   0,  29],\n",
       "       [  0,   0,   0,  48, 166, 224],\n",
       "       [  0,  93, 244, 249, 253, 187],\n",
       "       [  0, 107, 253, 253, 230,  48],\n",
       "       [  0,   3,  20,  20,  15,   0]], dtype=uint8)"
      ]
     },
     "execution_count": 5,
     "metadata": {},
     "output_type": "execute_result"
    }
   ],
   "source": [
    "array(im3)[4:10,4:10]"
   ]
  },
  {
   "cell_type": "markdown",
   "metadata": {},
   "source": [
    "Image as a tensor"
   ]
  },
  {
   "cell_type": "code",
   "execution_count": 6,
   "metadata": {},
   "outputs": [
    {
     "data": {
      "text/plain": [
       "tensor([[  0,   0,   0,   0,   0,   0,   0,   0,   0,   0,   0,   0,   0,   0,   0,   0,   0,   0],\n",
       "        [  0,   0,   0,   0,   0,  29, 150, 195, 254, 255, 254, 176, 193, 150,  96,   0,   0,   0],\n",
       "        [  0,   0,   0,  48, 166, 224, 253, 253, 234, 196, 253, 253, 253, 253, 233,   0,   0,   0],\n",
       "        [  0,  93, 244, 249, 253, 187,  46,  10,   8,   4,  10, 194, 253, 253, 233,   0,   0,   0],\n",
       "        [  0, 107, 253, 253, 230,  48,   0,   0,   0,   0,   0, 192, 253, 253, 156,   0,   0,   0],\n",
       "        [  0,   3,  20,  20,  15,   0,   0,   0,   0,   0,  43, 224, 253, 245,  74,   0,   0,   0],\n",
       "        [  0,   0,   0,   0,   0,   0,   0,   0,   0,   0, 249, 253, 245, 126,   0,   0,   0,   0],\n",
       "        [  0,   0,   0,   0,   0,   0,   0,  14, 101, 223, 253, 248, 124,   0,   0,   0,   0,   0],\n",
       "        [  0,   0,   0,   0,   0,  11, 166, 239, 253, 253, 253, 187,  30,   0,   0,   0,   0,   0],\n",
       "        [  0,   0,   0,   0,   0,  16, 248, 250, 253, 253, 253, 253, 232, 213, 111,   2,   0,   0],\n",
       "        [  0,   0,   0,   0,   0,   0,   0,  43,  98,  98, 208, 253, 253, 253, 253, 187,  22,   0],\n",
       "        [  0,   0,   0,   0,   0,   0,   0,   0,   0,   0,   9,  51, 119, 253, 253, 253,  76,   0],\n",
       "        [  0,   0,   0,   0,   0,   0,   0,   0,   0,   0,   0,   0,   1, 183, 253, 253, 139,   0],\n",
       "        [  0,   0,   0,   0,   0,   0,   0,   0,   0,   0,   0,   0,   0, 182, 253, 253, 104,   0],\n",
       "        [  0,   0,   0,   0,   0,   0,   0,   0,   0,   0,   0,   0,  85, 249, 253, 253,  36,   0],\n",
       "        [  0,   0,   0,   0,   0,   0,   0,   0,   0,   0,   0,  60, 214, 253, 253, 173,  11,   0],\n",
       "        [  0,   0,   0,   0,   0,   0,   0,   0,   0,   0,  98, 247, 253, 253, 226,   9,   0,   0],\n",
       "        [  0,   0,   0,   0,   0,   0,   0,   0,  42, 150, 252, 253, 253, 233,  53,   0,   0,   0],\n",
       "        [  0,   0,  42, 115,  42,  60, 115, 159, 240, 253, 253, 250, 175,  25,   0,   0,   0,   0],\n",
       "        [  0,   0, 187, 253, 253, 253, 253, 253, 253, 253, 197,  86,   0,   0,   0,   0,   0,   0],\n",
       "        [  0,   0, 103, 253, 253, 253, 253, 253, 232,  67,   1,   0,   0,   0,   0,   0,   0,   0]], dtype=torch.uint8)"
      ]
     },
     "execution_count": 6,
     "metadata": {},
     "output_type": "execute_result"
    }
   ],
   "source": [
    "tensor(im3)[4:25,4:22]"
   ]
  },
  {
   "cell_type": "markdown",
   "metadata": {},
   "source": [
    "Image as a table"
   ]
  },
  {
   "cell_type": "code",
   "execution_count": 7,
   "metadata": {},
   "outputs": [
    {
     "data": {
      "text/html": [
       "<style type=\"text/css\">\n",
       "#T_882b2_row0_col0, #T_882b2_row0_col1, #T_882b2_row0_col2, #T_882b2_row0_col3, #T_882b2_row0_col4, #T_882b2_row0_col5, #T_882b2_row0_col6, #T_882b2_row0_col7, #T_882b2_row0_col8, #T_882b2_row0_col9, #T_882b2_row0_col10, #T_882b2_row0_col11, #T_882b2_row0_col12, #T_882b2_row0_col13, #T_882b2_row0_col14, #T_882b2_row0_col15, #T_882b2_row0_col16, #T_882b2_row0_col17, #T_882b2_row1_col0, #T_882b2_row1_col1, #T_882b2_row1_col2, #T_882b2_row1_col3, #T_882b2_row1_col4, #T_882b2_row1_col15, #T_882b2_row1_col16, #T_882b2_row1_col17, #T_882b2_row2_col0, #T_882b2_row2_col1, #T_882b2_row2_col2, #T_882b2_row2_col15, #T_882b2_row2_col16, #T_882b2_row2_col17, #T_882b2_row3_col0, #T_882b2_row3_col15, #T_882b2_row3_col16, #T_882b2_row3_col17, #T_882b2_row4_col0, #T_882b2_row4_col6, #T_882b2_row4_col7, #T_882b2_row4_col8, #T_882b2_row4_col9, #T_882b2_row4_col10, #T_882b2_row4_col15, #T_882b2_row4_col16, #T_882b2_row4_col17, #T_882b2_row5_col0, #T_882b2_row5_col5, #T_882b2_row5_col6, #T_882b2_row5_col7, #T_882b2_row5_col8, #T_882b2_row5_col9, #T_882b2_row5_col15, #T_882b2_row5_col16, #T_882b2_row5_col17, #T_882b2_row6_col0, #T_882b2_row6_col1, #T_882b2_row6_col2, #T_882b2_row6_col3, #T_882b2_row6_col4, #T_882b2_row6_col5, #T_882b2_row6_col6, #T_882b2_row6_col7, #T_882b2_row6_col8, #T_882b2_row6_col9, #T_882b2_row6_col14, #T_882b2_row6_col15, #T_882b2_row6_col16, #T_882b2_row6_col17, #T_882b2_row7_col0, #T_882b2_row7_col1, #T_882b2_row7_col2, #T_882b2_row7_col3, #T_882b2_row7_col4, #T_882b2_row7_col5, #T_882b2_row7_col6, #T_882b2_row7_col13, #T_882b2_row7_col14, #T_882b2_row7_col15, #T_882b2_row7_col16, #T_882b2_row7_col17, #T_882b2_row8_col0, #T_882b2_row8_col1, #T_882b2_row8_col2, #T_882b2_row8_col3, #T_882b2_row8_col4, #T_882b2_row8_col13, #T_882b2_row8_col14, #T_882b2_row8_col15, #T_882b2_row8_col16, #T_882b2_row8_col17, #T_882b2_row9_col0, #T_882b2_row9_col1, #T_882b2_row9_col2, #T_882b2_row9_col3, #T_882b2_row9_col4, #T_882b2_row9_col16, #T_882b2_row9_col17, #T_882b2_row10_col0, #T_882b2_row10_col1, #T_882b2_row10_col2, #T_882b2_row10_col3, #T_882b2_row10_col4, #T_882b2_row10_col5, #T_882b2_row10_col6, #T_882b2_row10_col17, #T_882b2_row11_col0, #T_882b2_row11_col1, #T_882b2_row11_col2, #T_882b2_row11_col3, #T_882b2_row11_col4, #T_882b2_row11_col5, #T_882b2_row11_col6, #T_882b2_row11_col7, #T_882b2_row11_col8, #T_882b2_row11_col9, #T_882b2_row11_col17, #T_882b2_row12_col0, #T_882b2_row12_col1, #T_882b2_row12_col2, #T_882b2_row12_col3, #T_882b2_row12_col4, #T_882b2_row12_col5, #T_882b2_row12_col6, #T_882b2_row12_col7, #T_882b2_row12_col8, #T_882b2_row12_col9, #T_882b2_row12_col10, #T_882b2_row12_col11, #T_882b2_row12_col12, #T_882b2_row12_col17, #T_882b2_row13_col0, #T_882b2_row13_col1, #T_882b2_row13_col2, #T_882b2_row13_col3, #T_882b2_row13_col4, #T_882b2_row13_col5, #T_882b2_row13_col6, #T_882b2_row13_col7, #T_882b2_row13_col8, #T_882b2_row13_col9, #T_882b2_row13_col10, #T_882b2_row13_col11, #T_882b2_row13_col12, #T_882b2_row13_col17, #T_882b2_row14_col0, #T_882b2_row14_col1, #T_882b2_row14_col2, #T_882b2_row14_col3, #T_882b2_row14_col4, #T_882b2_row14_col5, #T_882b2_row14_col6, #T_882b2_row14_col7, #T_882b2_row14_col8, #T_882b2_row14_col9, #T_882b2_row14_col10, #T_882b2_row14_col11, #T_882b2_row14_col17, #T_882b2_row15_col0, #T_882b2_row15_col1, #T_882b2_row15_col2, #T_882b2_row15_col3, #T_882b2_row15_col4, #T_882b2_row15_col5, #T_882b2_row15_col6, #T_882b2_row15_col7, #T_882b2_row15_col8, #T_882b2_row15_col9, #T_882b2_row15_col10, #T_882b2_row15_col17, #T_882b2_row16_col0, #T_882b2_row16_col1, #T_882b2_row16_col2, #T_882b2_row16_col3, #T_882b2_row16_col4, #T_882b2_row16_col5, #T_882b2_row16_col6, #T_882b2_row16_col7, #T_882b2_row16_col8, #T_882b2_row16_col9, #T_882b2_row16_col16, #T_882b2_row16_col17, #T_882b2_row17_col0, #T_882b2_row17_col1, #T_882b2_row17_col2, #T_882b2_row17_col3, #T_882b2_row17_col4, #T_882b2_row17_col5, #T_882b2_row17_col6, #T_882b2_row17_col7, #T_882b2_row17_col15, #T_882b2_row17_col16, #T_882b2_row17_col17, #T_882b2_row18_col0, #T_882b2_row18_col1, #T_882b2_row18_col14, #T_882b2_row18_col15, #T_882b2_row18_col16, #T_882b2_row18_col17, #T_882b2_row19_col0, #T_882b2_row19_col1, #T_882b2_row19_col12, #T_882b2_row19_col13, #T_882b2_row19_col14, #T_882b2_row19_col15, #T_882b2_row19_col16, #T_882b2_row19_col17, #T_882b2_row20_col0, #T_882b2_row20_col1, #T_882b2_row20_col10, #T_882b2_row20_col11, #T_882b2_row20_col12, #T_882b2_row20_col13, #T_882b2_row20_col14, #T_882b2_row20_col15, #T_882b2_row20_col16, #T_882b2_row20_col17 {\n",
       "  font-size: 6pt;\n",
       "  background-color: #ffffff;\n",
       "  color: #000000;\n",
       "}\n",
       "#T_882b2_row1_col5, #T_882b2_row8_col12 {\n",
       "  font-size: 6pt;\n",
       "  background-color: #f1f1f1;\n",
       "  color: #000000;\n",
       "}\n",
       "#T_882b2_row1_col6, #T_882b2_row1_col13 {\n",
       "  font-size: 6pt;\n",
       "  background-color: #7c7c7c;\n",
       "  color: #f1f1f1;\n",
       "}\n",
       "#T_882b2_row1_col7 {\n",
       "  font-size: 6pt;\n",
       "  background-color: #4a4a4a;\n",
       "  color: #f1f1f1;\n",
       "}\n",
       "#T_882b2_row1_col8, #T_882b2_row1_col9, #T_882b2_row1_col10, #T_882b2_row2_col6, #T_882b2_row2_col7, #T_882b2_row2_col11, #T_882b2_row2_col12, #T_882b2_row2_col13, #T_882b2_row3_col4, #T_882b2_row3_col12, #T_882b2_row3_col13, #T_882b2_row4_col1, #T_882b2_row4_col2, #T_882b2_row4_col3, #T_882b2_row4_col12, #T_882b2_row4_col13, #T_882b2_row5_col12, #T_882b2_row6_col11, #T_882b2_row9_col11, #T_882b2_row10_col11, #T_882b2_row10_col12, #T_882b2_row10_col13, #T_882b2_row10_col14, #T_882b2_row11_col13, #T_882b2_row11_col14, #T_882b2_row11_col15, #T_882b2_row12_col14, #T_882b2_row12_col15, #T_882b2_row12_col16, #T_882b2_row13_col14, #T_882b2_row13_col15, #T_882b2_row14_col14, #T_882b2_row14_col15, #T_882b2_row15_col13, #T_882b2_row15_col14, #T_882b2_row16_col12, #T_882b2_row16_col13, #T_882b2_row17_col11, #T_882b2_row17_col12, #T_882b2_row19_col3, #T_882b2_row19_col4, #T_882b2_row19_col5, #T_882b2_row19_col6, #T_882b2_row19_col7, #T_882b2_row20_col3, #T_882b2_row20_col4, #T_882b2_row20_col5, #T_882b2_row20_col6, #T_882b2_row20_col7 {\n",
       "  font-size: 6pt;\n",
       "  background-color: #000000;\n",
       "  color: #f1f1f1;\n",
       "}\n",
       "#T_882b2_row1_col11 {\n",
       "  font-size: 6pt;\n",
       "  background-color: #606060;\n",
       "  color: #f1f1f1;\n",
       "}\n",
       "#T_882b2_row1_col12 {\n",
       "  font-size: 6pt;\n",
       "  background-color: #4d4d4d;\n",
       "  color: #f1f1f1;\n",
       "}\n",
       "#T_882b2_row1_col14 {\n",
       "  font-size: 6pt;\n",
       "  background-color: #bbbbbb;\n",
       "  color: #000000;\n",
       "}\n",
       "#T_882b2_row2_col3, #T_882b2_row4_col5 {\n",
       "  font-size: 6pt;\n",
       "  background-color: #e4e4e4;\n",
       "  color: #000000;\n",
       "}\n",
       "#T_882b2_row2_col4, #T_882b2_row8_col6 {\n",
       "  font-size: 6pt;\n",
       "  background-color: #6b6b6b;\n",
       "  color: #f1f1f1;\n",
       "}\n",
       "#T_882b2_row2_col5, #T_882b2_row5_col11 {\n",
       "  font-size: 6pt;\n",
       "  background-color: #222222;\n",
       "  color: #f1f1f1;\n",
       "}\n",
       "#T_882b2_row2_col8, #T_882b2_row2_col14, #T_882b2_row3_col14, #T_882b2_row17_col13 {\n",
       "  font-size: 6pt;\n",
       "  background-color: #171717;\n",
       "  color: #f1f1f1;\n",
       "}\n",
       "#T_882b2_row2_col9, #T_882b2_row3_col11 {\n",
       "  font-size: 6pt;\n",
       "  background-color: #4b4b4b;\n",
       "  color: #f1f1f1;\n",
       "}\n",
       "#T_882b2_row2_col10, #T_882b2_row7_col10, #T_882b2_row8_col8, #T_882b2_row8_col10, #T_882b2_row9_col8, #T_882b2_row9_col10, #T_882b2_row18_col10, #T_882b2_row19_col8 {\n",
       "  font-size: 6pt;\n",
       "  background-color: #010101;\n",
       "  color: #f1f1f1;\n",
       "}\n",
       "#T_882b2_row3_col1 {\n",
       "  font-size: 6pt;\n",
       "  background-color: #272727;\n",
       "  color: #f1f1f1;\n",
       "}\n",
       "#T_882b2_row3_col2 {\n",
       "  font-size: 6pt;\n",
       "  background-color: #0a0a0a;\n",
       "  color: #f1f1f1;\n",
       "}\n",
       "#T_882b2_row3_col3, #T_882b2_row14_col13 {\n",
       "  font-size: 6pt;\n",
       "  background-color: #050505;\n",
       "  color: #f1f1f1;\n",
       "}\n",
       "#T_882b2_row3_col5, #T_882b2_row8_col11, #T_882b2_row10_col15, #T_882b2_row19_col2 {\n",
       "  font-size: 6pt;\n",
       "  background-color: #545454;\n",
       "  color: #f1f1f1;\n",
       "}\n",
       "#T_882b2_row3_col6 {\n",
       "  font-size: 6pt;\n",
       "  background-color: #e6e6e6;\n",
       "  color: #000000;\n",
       "}\n",
       "#T_882b2_row3_col7, #T_882b2_row3_col10, #T_882b2_row8_col5 {\n",
       "  font-size: 6pt;\n",
       "  background-color: #fafafa;\n",
       "  color: #000000;\n",
       "}\n",
       "#T_882b2_row3_col8, #T_882b2_row11_col10, #T_882b2_row16_col15 {\n",
       "  font-size: 6pt;\n",
       "  background-color: #fbfbfb;\n",
       "  color: #000000;\n",
       "}\n",
       "#T_882b2_row3_col9 {\n",
       "  font-size: 6pt;\n",
       "  background-color: #fdfdfd;\n",
       "  color: #000000;\n",
       "}\n",
       "#T_882b2_row4_col4 {\n",
       "  font-size: 6pt;\n",
       "  background-color: #1b1b1b;\n",
       "  color: #f1f1f1;\n",
       "}\n",
       "#T_882b2_row4_col11 {\n",
       "  font-size: 6pt;\n",
       "  background-color: #4e4e4e;\n",
       "  color: #f1f1f1;\n",
       "}\n",
       "#T_882b2_row4_col14 {\n",
       "  font-size: 6pt;\n",
       "  background-color: #767676;\n",
       "  color: #f1f1f1;\n",
       "}\n",
       "#T_882b2_row5_col1 {\n",
       "  font-size: 6pt;\n",
       "  background-color: #fcfcfc;\n",
       "  color: #000000;\n",
       "}\n",
       "#T_882b2_row5_col2, #T_882b2_row5_col3, #T_882b2_row15_col16 {\n",
       "  font-size: 6pt;\n",
       "  background-color: #f6f6f6;\n",
       "  color: #000000;\n",
       "}\n",
       "#T_882b2_row5_col4, #T_882b2_row7_col7 {\n",
       "  font-size: 6pt;\n",
       "  background-color: #f8f8f8;\n",
       "  color: #000000;\n",
       "}\n",
       "#T_882b2_row5_col10, #T_882b2_row10_col7 {\n",
       "  font-size: 6pt;\n",
       "  background-color: #e8e8e8;\n",
       "  color: #000000;\n",
       "}\n",
       "#T_882b2_row5_col13, #T_882b2_row6_col12 {\n",
       "  font-size: 6pt;\n",
       "  background-color: #090909;\n",
       "  color: #f1f1f1;\n",
       "}\n",
       "#T_882b2_row5_col14 {\n",
       "  font-size: 6pt;\n",
       "  background-color: #d0d0d0;\n",
       "  color: #000000;\n",
       "}\n",
       "#T_882b2_row6_col10, #T_882b2_row7_col11, #T_882b2_row9_col6 {\n",
       "  font-size: 6pt;\n",
       "  background-color: #060606;\n",
       "  color: #f1f1f1;\n",
       "}\n",
       "#T_882b2_row6_col13 {\n",
       "  font-size: 6pt;\n",
       "  background-color: #979797;\n",
       "  color: #f1f1f1;\n",
       "}\n",
       "#T_882b2_row7_col8 {\n",
       "  font-size: 6pt;\n",
       "  background-color: #b6b6b6;\n",
       "  color: #000000;\n",
       "}\n",
       "#T_882b2_row7_col9 {\n",
       "  font-size: 6pt;\n",
       "  background-color: #252525;\n",
       "  color: #f1f1f1;\n",
       "}\n",
       "#T_882b2_row7_col12 {\n",
       "  font-size: 6pt;\n",
       "  background-color: #999999;\n",
       "  color: #f1f1f1;\n",
       "}\n",
       "#T_882b2_row8_col7, #T_882b2_row18_col8 {\n",
       "  font-size: 6pt;\n",
       "  background-color: #101010;\n",
       "  color: #f1f1f1;\n",
       "}\n",
       "#T_882b2_row8_col9, #T_882b2_row9_col9, #T_882b2_row17_col10, #T_882b2_row18_col9, #T_882b2_row19_col9 {\n",
       "  font-size: 6pt;\n",
       "  background-color: #020202;\n",
       "  color: #f1f1f1;\n",
       "}\n",
       "#T_882b2_row9_col5 {\n",
       "  font-size: 6pt;\n",
       "  background-color: #f7f7f7;\n",
       "  color: #000000;\n",
       "}\n",
       "#T_882b2_row9_col7, #T_882b2_row18_col11 {\n",
       "  font-size: 6pt;\n",
       "  background-color: #030303;\n",
       "  color: #f1f1f1;\n",
       "}\n",
       "#T_882b2_row9_col12 {\n",
       "  font-size: 6pt;\n",
       "  background-color: #181818;\n",
       "  color: #f1f1f1;\n",
       "}\n",
       "#T_882b2_row9_col13 {\n",
       "  font-size: 6pt;\n",
       "  background-color: #303030;\n",
       "  color: #f1f1f1;\n",
       "}\n",
       "#T_882b2_row9_col14 {\n",
       "  font-size: 6pt;\n",
       "  background-color: #a9a9a9;\n",
       "  color: #f1f1f1;\n",
       "}\n",
       "#T_882b2_row9_col15 {\n",
       "  font-size: 6pt;\n",
       "  background-color: #fefefe;\n",
       "  color: #000000;\n",
       "}\n",
       "#T_882b2_row10_col8, #T_882b2_row10_col9, #T_882b2_row16_col10 {\n",
       "  font-size: 6pt;\n",
       "  background-color: #bababa;\n",
       "  color: #000000;\n",
       "}\n",
       "#T_882b2_row10_col10 {\n",
       "  font-size: 6pt;\n",
       "  background-color: #393939;\n",
       "  color: #f1f1f1;\n",
       "}\n",
       "#T_882b2_row10_col16 {\n",
       "  font-size: 6pt;\n",
       "  background-color: #eaeaea;\n",
       "  color: #000000;\n",
       "}\n",
       "#T_882b2_row11_col11 {\n",
       "  font-size: 6pt;\n",
       "  background-color: #e2e2e2;\n",
       "  color: #000000;\n",
       "}\n",
       "#T_882b2_row11_col12 {\n",
       "  font-size: 6pt;\n",
       "  background-color: #9f9f9f;\n",
       "  color: #f1f1f1;\n",
       "}\n",
       "#T_882b2_row11_col16 {\n",
       "  font-size: 6pt;\n",
       "  background-color: #898989;\n",
       "  color: #f1f1f1;\n",
       "}\n",
       "#T_882b2_row12_col13 {\n",
       "  font-size: 6pt;\n",
       "  background-color: #585858;\n",
       "  color: #f1f1f1;\n",
       "}\n",
       "#T_882b2_row13_col13 {\n",
       "  font-size: 6pt;\n",
       "  background-color: #5a5a5a;\n",
       "  color: #f1f1f1;\n",
       "}\n",
       "#T_882b2_row13_col16 {\n",
       "  font-size: 6pt;\n",
       "  background-color: #525252;\n",
       "  color: #f1f1f1;\n",
       "}\n",
       "#T_882b2_row14_col12, #T_882b2_row19_col11 {\n",
       "  font-size: 6pt;\n",
       "  background-color: #c5c5c5;\n",
       "  color: #000000;\n",
       "}\n",
       "#T_882b2_row14_col16 {\n",
       "  font-size: 6pt;\n",
       "  background-color: #d7d7d7;\n",
       "  color: #000000;\n",
       "}\n",
       "#T_882b2_row15_col11, #T_882b2_row18_col5 {\n",
       "  font-size: 6pt;\n",
       "  background-color: #dcdcdc;\n",
       "  color: #000000;\n",
       "}\n",
       "#T_882b2_row15_col12 {\n",
       "  font-size: 6pt;\n",
       "  background-color: #2f2f2f;\n",
       "  color: #f1f1f1;\n",
       "}\n",
       "#T_882b2_row15_col15 {\n",
       "  font-size: 6pt;\n",
       "  background-color: #636363;\n",
       "  color: #f1f1f1;\n",
       "}\n",
       "#T_882b2_row16_col11 {\n",
       "  font-size: 6pt;\n",
       "  background-color: #070707;\n",
       "  color: #f1f1f1;\n",
       "}\n",
       "#T_882b2_row16_col14 {\n",
       "  font-size: 6pt;\n",
       "  background-color: #1f1f1f;\n",
       "  color: #f1f1f1;\n",
       "}\n",
       "#T_882b2_row17_col8, #T_882b2_row18_col2, #T_882b2_row18_col4 {\n",
       "  font-size: 6pt;\n",
       "  background-color: #e9e9e9;\n",
       "  color: #000000;\n",
       "}\n",
       "#T_882b2_row17_col9 {\n",
       "  font-size: 6pt;\n",
       "  background-color: #7d7d7d;\n",
       "  color: #f1f1f1;\n",
       "}\n",
       "#T_882b2_row17_col14 {\n",
       "  font-size: 6pt;\n",
       "  background-color: #e1e1e1;\n",
       "  color: #000000;\n",
       "}\n",
       "#T_882b2_row18_col3, #T_882b2_row18_col6 {\n",
       "  font-size: 6pt;\n",
       "  background-color: #a4a4a4;\n",
       "  color: #f1f1f1;\n",
       "}\n",
       "#T_882b2_row18_col7 {\n",
       "  font-size: 6pt;\n",
       "  background-color: #727272;\n",
       "  color: #f1f1f1;\n",
       "}\n",
       "#T_882b2_row18_col12 {\n",
       "  font-size: 6pt;\n",
       "  background-color: #616161;\n",
       "  color: #f1f1f1;\n",
       "}\n",
       "#T_882b2_row18_col13 {\n",
       "  font-size: 6pt;\n",
       "  background-color: #f3f3f3;\n",
       "  color: #000000;\n",
       "}\n",
       "#T_882b2_row19_col10 {\n",
       "  font-size: 6pt;\n",
       "  background-color: #484848;\n",
       "  color: #f1f1f1;\n",
       "}\n",
       "#T_882b2_row20_col2 {\n",
       "  font-size: 6pt;\n",
       "  background-color: #b3b3b3;\n",
       "  color: #000000;\n",
       "}\n",
       "#T_882b2_row20_col8 {\n",
       "  font-size: 6pt;\n",
       "  background-color: #1a1a1a;\n",
       "  color: #f1f1f1;\n",
       "}\n",
       "#T_882b2_row20_col9 {\n",
       "  font-size: 6pt;\n",
       "  background-color: #d6d6d6;\n",
       "  color: #000000;\n",
       "}\n",
       "</style>\n",
       "<table id=\"T_882b2\">\n",
       "  <thead>\n",
       "    <tr>\n",
       "      <th class=\"blank level0\" >&nbsp;</th>\n",
       "      <th id=\"T_882b2_level0_col0\" class=\"col_heading level0 col0\" >0</th>\n",
       "      <th id=\"T_882b2_level0_col1\" class=\"col_heading level0 col1\" >1</th>\n",
       "      <th id=\"T_882b2_level0_col2\" class=\"col_heading level0 col2\" >2</th>\n",
       "      <th id=\"T_882b2_level0_col3\" class=\"col_heading level0 col3\" >3</th>\n",
       "      <th id=\"T_882b2_level0_col4\" class=\"col_heading level0 col4\" >4</th>\n",
       "      <th id=\"T_882b2_level0_col5\" class=\"col_heading level0 col5\" >5</th>\n",
       "      <th id=\"T_882b2_level0_col6\" class=\"col_heading level0 col6\" >6</th>\n",
       "      <th id=\"T_882b2_level0_col7\" class=\"col_heading level0 col7\" >7</th>\n",
       "      <th id=\"T_882b2_level0_col8\" class=\"col_heading level0 col8\" >8</th>\n",
       "      <th id=\"T_882b2_level0_col9\" class=\"col_heading level0 col9\" >9</th>\n",
       "      <th id=\"T_882b2_level0_col10\" class=\"col_heading level0 col10\" >10</th>\n",
       "      <th id=\"T_882b2_level0_col11\" class=\"col_heading level0 col11\" >11</th>\n",
       "      <th id=\"T_882b2_level0_col12\" class=\"col_heading level0 col12\" >12</th>\n",
       "      <th id=\"T_882b2_level0_col13\" class=\"col_heading level0 col13\" >13</th>\n",
       "      <th id=\"T_882b2_level0_col14\" class=\"col_heading level0 col14\" >14</th>\n",
       "      <th id=\"T_882b2_level0_col15\" class=\"col_heading level0 col15\" >15</th>\n",
       "      <th id=\"T_882b2_level0_col16\" class=\"col_heading level0 col16\" >16</th>\n",
       "      <th id=\"T_882b2_level0_col17\" class=\"col_heading level0 col17\" >17</th>\n",
       "    </tr>\n",
       "  </thead>\n",
       "  <tbody>\n",
       "    <tr>\n",
       "      <th id=\"T_882b2_level0_row0\" class=\"row_heading level0 row0\" >0</th>\n",
       "      <td id=\"T_882b2_row0_col0\" class=\"data row0 col0\" >0</td>\n",
       "      <td id=\"T_882b2_row0_col1\" class=\"data row0 col1\" >0</td>\n",
       "      <td id=\"T_882b2_row0_col2\" class=\"data row0 col2\" >0</td>\n",
       "      <td id=\"T_882b2_row0_col3\" class=\"data row0 col3\" >0</td>\n",
       "      <td id=\"T_882b2_row0_col4\" class=\"data row0 col4\" >0</td>\n",
       "      <td id=\"T_882b2_row0_col5\" class=\"data row0 col5\" >0</td>\n",
       "      <td id=\"T_882b2_row0_col6\" class=\"data row0 col6\" >0</td>\n",
       "      <td id=\"T_882b2_row0_col7\" class=\"data row0 col7\" >0</td>\n",
       "      <td id=\"T_882b2_row0_col8\" class=\"data row0 col8\" >0</td>\n",
       "      <td id=\"T_882b2_row0_col9\" class=\"data row0 col9\" >0</td>\n",
       "      <td id=\"T_882b2_row0_col10\" class=\"data row0 col10\" >0</td>\n",
       "      <td id=\"T_882b2_row0_col11\" class=\"data row0 col11\" >0</td>\n",
       "      <td id=\"T_882b2_row0_col12\" class=\"data row0 col12\" >0</td>\n",
       "      <td id=\"T_882b2_row0_col13\" class=\"data row0 col13\" >0</td>\n",
       "      <td id=\"T_882b2_row0_col14\" class=\"data row0 col14\" >0</td>\n",
       "      <td id=\"T_882b2_row0_col15\" class=\"data row0 col15\" >0</td>\n",
       "      <td id=\"T_882b2_row0_col16\" class=\"data row0 col16\" >0</td>\n",
       "      <td id=\"T_882b2_row0_col17\" class=\"data row0 col17\" >0</td>\n",
       "    </tr>\n",
       "    <tr>\n",
       "      <th id=\"T_882b2_level0_row1\" class=\"row_heading level0 row1\" >1</th>\n",
       "      <td id=\"T_882b2_row1_col0\" class=\"data row1 col0\" >0</td>\n",
       "      <td id=\"T_882b2_row1_col1\" class=\"data row1 col1\" >0</td>\n",
       "      <td id=\"T_882b2_row1_col2\" class=\"data row1 col2\" >0</td>\n",
       "      <td id=\"T_882b2_row1_col3\" class=\"data row1 col3\" >0</td>\n",
       "      <td id=\"T_882b2_row1_col4\" class=\"data row1 col4\" >0</td>\n",
       "      <td id=\"T_882b2_row1_col5\" class=\"data row1 col5\" >29</td>\n",
       "      <td id=\"T_882b2_row1_col6\" class=\"data row1 col6\" >150</td>\n",
       "      <td id=\"T_882b2_row1_col7\" class=\"data row1 col7\" >195</td>\n",
       "      <td id=\"T_882b2_row1_col8\" class=\"data row1 col8\" >254</td>\n",
       "      <td id=\"T_882b2_row1_col9\" class=\"data row1 col9\" >255</td>\n",
       "      <td id=\"T_882b2_row1_col10\" class=\"data row1 col10\" >254</td>\n",
       "      <td id=\"T_882b2_row1_col11\" class=\"data row1 col11\" >176</td>\n",
       "      <td id=\"T_882b2_row1_col12\" class=\"data row1 col12\" >193</td>\n",
       "      <td id=\"T_882b2_row1_col13\" class=\"data row1 col13\" >150</td>\n",
       "      <td id=\"T_882b2_row1_col14\" class=\"data row1 col14\" >96</td>\n",
       "      <td id=\"T_882b2_row1_col15\" class=\"data row1 col15\" >0</td>\n",
       "      <td id=\"T_882b2_row1_col16\" class=\"data row1 col16\" >0</td>\n",
       "      <td id=\"T_882b2_row1_col17\" class=\"data row1 col17\" >0</td>\n",
       "    </tr>\n",
       "    <tr>\n",
       "      <th id=\"T_882b2_level0_row2\" class=\"row_heading level0 row2\" >2</th>\n",
       "      <td id=\"T_882b2_row2_col0\" class=\"data row2 col0\" >0</td>\n",
       "      <td id=\"T_882b2_row2_col1\" class=\"data row2 col1\" >0</td>\n",
       "      <td id=\"T_882b2_row2_col2\" class=\"data row2 col2\" >0</td>\n",
       "      <td id=\"T_882b2_row2_col3\" class=\"data row2 col3\" >48</td>\n",
       "      <td id=\"T_882b2_row2_col4\" class=\"data row2 col4\" >166</td>\n",
       "      <td id=\"T_882b2_row2_col5\" class=\"data row2 col5\" >224</td>\n",
       "      <td id=\"T_882b2_row2_col6\" class=\"data row2 col6\" >253</td>\n",
       "      <td id=\"T_882b2_row2_col7\" class=\"data row2 col7\" >253</td>\n",
       "      <td id=\"T_882b2_row2_col8\" class=\"data row2 col8\" >234</td>\n",
       "      <td id=\"T_882b2_row2_col9\" class=\"data row2 col9\" >196</td>\n",
       "      <td id=\"T_882b2_row2_col10\" class=\"data row2 col10\" >253</td>\n",
       "      <td id=\"T_882b2_row2_col11\" class=\"data row2 col11\" >253</td>\n",
       "      <td id=\"T_882b2_row2_col12\" class=\"data row2 col12\" >253</td>\n",
       "      <td id=\"T_882b2_row2_col13\" class=\"data row2 col13\" >253</td>\n",
       "      <td id=\"T_882b2_row2_col14\" class=\"data row2 col14\" >233</td>\n",
       "      <td id=\"T_882b2_row2_col15\" class=\"data row2 col15\" >0</td>\n",
       "      <td id=\"T_882b2_row2_col16\" class=\"data row2 col16\" >0</td>\n",
       "      <td id=\"T_882b2_row2_col17\" class=\"data row2 col17\" >0</td>\n",
       "    </tr>\n",
       "    <tr>\n",
       "      <th id=\"T_882b2_level0_row3\" class=\"row_heading level0 row3\" >3</th>\n",
       "      <td id=\"T_882b2_row3_col0\" class=\"data row3 col0\" >0</td>\n",
       "      <td id=\"T_882b2_row3_col1\" class=\"data row3 col1\" >93</td>\n",
       "      <td id=\"T_882b2_row3_col2\" class=\"data row3 col2\" >244</td>\n",
       "      <td id=\"T_882b2_row3_col3\" class=\"data row3 col3\" >249</td>\n",
       "      <td id=\"T_882b2_row3_col4\" class=\"data row3 col4\" >253</td>\n",
       "      <td id=\"T_882b2_row3_col5\" class=\"data row3 col5\" >187</td>\n",
       "      <td id=\"T_882b2_row3_col6\" class=\"data row3 col6\" >46</td>\n",
       "      <td id=\"T_882b2_row3_col7\" class=\"data row3 col7\" >10</td>\n",
       "      <td id=\"T_882b2_row3_col8\" class=\"data row3 col8\" >8</td>\n",
       "      <td id=\"T_882b2_row3_col9\" class=\"data row3 col9\" >4</td>\n",
       "      <td id=\"T_882b2_row3_col10\" class=\"data row3 col10\" >10</td>\n",
       "      <td id=\"T_882b2_row3_col11\" class=\"data row3 col11\" >194</td>\n",
       "      <td id=\"T_882b2_row3_col12\" class=\"data row3 col12\" >253</td>\n",
       "      <td id=\"T_882b2_row3_col13\" class=\"data row3 col13\" >253</td>\n",
       "      <td id=\"T_882b2_row3_col14\" class=\"data row3 col14\" >233</td>\n",
       "      <td id=\"T_882b2_row3_col15\" class=\"data row3 col15\" >0</td>\n",
       "      <td id=\"T_882b2_row3_col16\" class=\"data row3 col16\" >0</td>\n",
       "      <td id=\"T_882b2_row3_col17\" class=\"data row3 col17\" >0</td>\n",
       "    </tr>\n",
       "    <tr>\n",
       "      <th id=\"T_882b2_level0_row4\" class=\"row_heading level0 row4\" >4</th>\n",
       "      <td id=\"T_882b2_row4_col0\" class=\"data row4 col0\" >0</td>\n",
       "      <td id=\"T_882b2_row4_col1\" class=\"data row4 col1\" >107</td>\n",
       "      <td id=\"T_882b2_row4_col2\" class=\"data row4 col2\" >253</td>\n",
       "      <td id=\"T_882b2_row4_col3\" class=\"data row4 col3\" >253</td>\n",
       "      <td id=\"T_882b2_row4_col4\" class=\"data row4 col4\" >230</td>\n",
       "      <td id=\"T_882b2_row4_col5\" class=\"data row4 col5\" >48</td>\n",
       "      <td id=\"T_882b2_row4_col6\" class=\"data row4 col6\" >0</td>\n",
       "      <td id=\"T_882b2_row4_col7\" class=\"data row4 col7\" >0</td>\n",
       "      <td id=\"T_882b2_row4_col8\" class=\"data row4 col8\" >0</td>\n",
       "      <td id=\"T_882b2_row4_col9\" class=\"data row4 col9\" >0</td>\n",
       "      <td id=\"T_882b2_row4_col10\" class=\"data row4 col10\" >0</td>\n",
       "      <td id=\"T_882b2_row4_col11\" class=\"data row4 col11\" >192</td>\n",
       "      <td id=\"T_882b2_row4_col12\" class=\"data row4 col12\" >253</td>\n",
       "      <td id=\"T_882b2_row4_col13\" class=\"data row4 col13\" >253</td>\n",
       "      <td id=\"T_882b2_row4_col14\" class=\"data row4 col14\" >156</td>\n",
       "      <td id=\"T_882b2_row4_col15\" class=\"data row4 col15\" >0</td>\n",
       "      <td id=\"T_882b2_row4_col16\" class=\"data row4 col16\" >0</td>\n",
       "      <td id=\"T_882b2_row4_col17\" class=\"data row4 col17\" >0</td>\n",
       "    </tr>\n",
       "    <tr>\n",
       "      <th id=\"T_882b2_level0_row5\" class=\"row_heading level0 row5\" >5</th>\n",
       "      <td id=\"T_882b2_row5_col0\" class=\"data row5 col0\" >0</td>\n",
       "      <td id=\"T_882b2_row5_col1\" class=\"data row5 col1\" >3</td>\n",
       "      <td id=\"T_882b2_row5_col2\" class=\"data row5 col2\" >20</td>\n",
       "      <td id=\"T_882b2_row5_col3\" class=\"data row5 col3\" >20</td>\n",
       "      <td id=\"T_882b2_row5_col4\" class=\"data row5 col4\" >15</td>\n",
       "      <td id=\"T_882b2_row5_col5\" class=\"data row5 col5\" >0</td>\n",
       "      <td id=\"T_882b2_row5_col6\" class=\"data row5 col6\" >0</td>\n",
       "      <td id=\"T_882b2_row5_col7\" class=\"data row5 col7\" >0</td>\n",
       "      <td id=\"T_882b2_row5_col8\" class=\"data row5 col8\" >0</td>\n",
       "      <td id=\"T_882b2_row5_col9\" class=\"data row5 col9\" >0</td>\n",
       "      <td id=\"T_882b2_row5_col10\" class=\"data row5 col10\" >43</td>\n",
       "      <td id=\"T_882b2_row5_col11\" class=\"data row5 col11\" >224</td>\n",
       "      <td id=\"T_882b2_row5_col12\" class=\"data row5 col12\" >253</td>\n",
       "      <td id=\"T_882b2_row5_col13\" class=\"data row5 col13\" >245</td>\n",
       "      <td id=\"T_882b2_row5_col14\" class=\"data row5 col14\" >74</td>\n",
       "      <td id=\"T_882b2_row5_col15\" class=\"data row5 col15\" >0</td>\n",
       "      <td id=\"T_882b2_row5_col16\" class=\"data row5 col16\" >0</td>\n",
       "      <td id=\"T_882b2_row5_col17\" class=\"data row5 col17\" >0</td>\n",
       "    </tr>\n",
       "    <tr>\n",
       "      <th id=\"T_882b2_level0_row6\" class=\"row_heading level0 row6\" >6</th>\n",
       "      <td id=\"T_882b2_row6_col0\" class=\"data row6 col0\" >0</td>\n",
       "      <td id=\"T_882b2_row6_col1\" class=\"data row6 col1\" >0</td>\n",
       "      <td id=\"T_882b2_row6_col2\" class=\"data row6 col2\" >0</td>\n",
       "      <td id=\"T_882b2_row6_col3\" class=\"data row6 col3\" >0</td>\n",
       "      <td id=\"T_882b2_row6_col4\" class=\"data row6 col4\" >0</td>\n",
       "      <td id=\"T_882b2_row6_col5\" class=\"data row6 col5\" >0</td>\n",
       "      <td id=\"T_882b2_row6_col6\" class=\"data row6 col6\" >0</td>\n",
       "      <td id=\"T_882b2_row6_col7\" class=\"data row6 col7\" >0</td>\n",
       "      <td id=\"T_882b2_row6_col8\" class=\"data row6 col8\" >0</td>\n",
       "      <td id=\"T_882b2_row6_col9\" class=\"data row6 col9\" >0</td>\n",
       "      <td id=\"T_882b2_row6_col10\" class=\"data row6 col10\" >249</td>\n",
       "      <td id=\"T_882b2_row6_col11\" class=\"data row6 col11\" >253</td>\n",
       "      <td id=\"T_882b2_row6_col12\" class=\"data row6 col12\" >245</td>\n",
       "      <td id=\"T_882b2_row6_col13\" class=\"data row6 col13\" >126</td>\n",
       "      <td id=\"T_882b2_row6_col14\" class=\"data row6 col14\" >0</td>\n",
       "      <td id=\"T_882b2_row6_col15\" class=\"data row6 col15\" >0</td>\n",
       "      <td id=\"T_882b2_row6_col16\" class=\"data row6 col16\" >0</td>\n",
       "      <td id=\"T_882b2_row6_col17\" class=\"data row6 col17\" >0</td>\n",
       "    </tr>\n",
       "    <tr>\n",
       "      <th id=\"T_882b2_level0_row7\" class=\"row_heading level0 row7\" >7</th>\n",
       "      <td id=\"T_882b2_row7_col0\" class=\"data row7 col0\" >0</td>\n",
       "      <td id=\"T_882b2_row7_col1\" class=\"data row7 col1\" >0</td>\n",
       "      <td id=\"T_882b2_row7_col2\" class=\"data row7 col2\" >0</td>\n",
       "      <td id=\"T_882b2_row7_col3\" class=\"data row7 col3\" >0</td>\n",
       "      <td id=\"T_882b2_row7_col4\" class=\"data row7 col4\" >0</td>\n",
       "      <td id=\"T_882b2_row7_col5\" class=\"data row7 col5\" >0</td>\n",
       "      <td id=\"T_882b2_row7_col6\" class=\"data row7 col6\" >0</td>\n",
       "      <td id=\"T_882b2_row7_col7\" class=\"data row7 col7\" >14</td>\n",
       "      <td id=\"T_882b2_row7_col8\" class=\"data row7 col8\" >101</td>\n",
       "      <td id=\"T_882b2_row7_col9\" class=\"data row7 col9\" >223</td>\n",
       "      <td id=\"T_882b2_row7_col10\" class=\"data row7 col10\" >253</td>\n",
       "      <td id=\"T_882b2_row7_col11\" class=\"data row7 col11\" >248</td>\n",
       "      <td id=\"T_882b2_row7_col12\" class=\"data row7 col12\" >124</td>\n",
       "      <td id=\"T_882b2_row7_col13\" class=\"data row7 col13\" >0</td>\n",
       "      <td id=\"T_882b2_row7_col14\" class=\"data row7 col14\" >0</td>\n",
       "      <td id=\"T_882b2_row7_col15\" class=\"data row7 col15\" >0</td>\n",
       "      <td id=\"T_882b2_row7_col16\" class=\"data row7 col16\" >0</td>\n",
       "      <td id=\"T_882b2_row7_col17\" class=\"data row7 col17\" >0</td>\n",
       "    </tr>\n",
       "    <tr>\n",
       "      <th id=\"T_882b2_level0_row8\" class=\"row_heading level0 row8\" >8</th>\n",
       "      <td id=\"T_882b2_row8_col0\" class=\"data row8 col0\" >0</td>\n",
       "      <td id=\"T_882b2_row8_col1\" class=\"data row8 col1\" >0</td>\n",
       "      <td id=\"T_882b2_row8_col2\" class=\"data row8 col2\" >0</td>\n",
       "      <td id=\"T_882b2_row8_col3\" class=\"data row8 col3\" >0</td>\n",
       "      <td id=\"T_882b2_row8_col4\" class=\"data row8 col4\" >0</td>\n",
       "      <td id=\"T_882b2_row8_col5\" class=\"data row8 col5\" >11</td>\n",
       "      <td id=\"T_882b2_row8_col6\" class=\"data row8 col6\" >166</td>\n",
       "      <td id=\"T_882b2_row8_col7\" class=\"data row8 col7\" >239</td>\n",
       "      <td id=\"T_882b2_row8_col8\" class=\"data row8 col8\" >253</td>\n",
       "      <td id=\"T_882b2_row8_col9\" class=\"data row8 col9\" >253</td>\n",
       "      <td id=\"T_882b2_row8_col10\" class=\"data row8 col10\" >253</td>\n",
       "      <td id=\"T_882b2_row8_col11\" class=\"data row8 col11\" >187</td>\n",
       "      <td id=\"T_882b2_row8_col12\" class=\"data row8 col12\" >30</td>\n",
       "      <td id=\"T_882b2_row8_col13\" class=\"data row8 col13\" >0</td>\n",
       "      <td id=\"T_882b2_row8_col14\" class=\"data row8 col14\" >0</td>\n",
       "      <td id=\"T_882b2_row8_col15\" class=\"data row8 col15\" >0</td>\n",
       "      <td id=\"T_882b2_row8_col16\" class=\"data row8 col16\" >0</td>\n",
       "      <td id=\"T_882b2_row8_col17\" class=\"data row8 col17\" >0</td>\n",
       "    </tr>\n",
       "    <tr>\n",
       "      <th id=\"T_882b2_level0_row9\" class=\"row_heading level0 row9\" >9</th>\n",
       "      <td id=\"T_882b2_row9_col0\" class=\"data row9 col0\" >0</td>\n",
       "      <td id=\"T_882b2_row9_col1\" class=\"data row9 col1\" >0</td>\n",
       "      <td id=\"T_882b2_row9_col2\" class=\"data row9 col2\" >0</td>\n",
       "      <td id=\"T_882b2_row9_col3\" class=\"data row9 col3\" >0</td>\n",
       "      <td id=\"T_882b2_row9_col4\" class=\"data row9 col4\" >0</td>\n",
       "      <td id=\"T_882b2_row9_col5\" class=\"data row9 col5\" >16</td>\n",
       "      <td id=\"T_882b2_row9_col6\" class=\"data row9 col6\" >248</td>\n",
       "      <td id=\"T_882b2_row9_col7\" class=\"data row9 col7\" >250</td>\n",
       "      <td id=\"T_882b2_row9_col8\" class=\"data row9 col8\" >253</td>\n",
       "      <td id=\"T_882b2_row9_col9\" class=\"data row9 col9\" >253</td>\n",
       "      <td id=\"T_882b2_row9_col10\" class=\"data row9 col10\" >253</td>\n",
       "      <td id=\"T_882b2_row9_col11\" class=\"data row9 col11\" >253</td>\n",
       "      <td id=\"T_882b2_row9_col12\" class=\"data row9 col12\" >232</td>\n",
       "      <td id=\"T_882b2_row9_col13\" class=\"data row9 col13\" >213</td>\n",
       "      <td id=\"T_882b2_row9_col14\" class=\"data row9 col14\" >111</td>\n",
       "      <td id=\"T_882b2_row9_col15\" class=\"data row9 col15\" >2</td>\n",
       "      <td id=\"T_882b2_row9_col16\" class=\"data row9 col16\" >0</td>\n",
       "      <td id=\"T_882b2_row9_col17\" class=\"data row9 col17\" >0</td>\n",
       "    </tr>\n",
       "    <tr>\n",
       "      <th id=\"T_882b2_level0_row10\" class=\"row_heading level0 row10\" >10</th>\n",
       "      <td id=\"T_882b2_row10_col0\" class=\"data row10 col0\" >0</td>\n",
       "      <td id=\"T_882b2_row10_col1\" class=\"data row10 col1\" >0</td>\n",
       "      <td id=\"T_882b2_row10_col2\" class=\"data row10 col2\" >0</td>\n",
       "      <td id=\"T_882b2_row10_col3\" class=\"data row10 col3\" >0</td>\n",
       "      <td id=\"T_882b2_row10_col4\" class=\"data row10 col4\" >0</td>\n",
       "      <td id=\"T_882b2_row10_col5\" class=\"data row10 col5\" >0</td>\n",
       "      <td id=\"T_882b2_row10_col6\" class=\"data row10 col6\" >0</td>\n",
       "      <td id=\"T_882b2_row10_col7\" class=\"data row10 col7\" >43</td>\n",
       "      <td id=\"T_882b2_row10_col8\" class=\"data row10 col8\" >98</td>\n",
       "      <td id=\"T_882b2_row10_col9\" class=\"data row10 col9\" >98</td>\n",
       "      <td id=\"T_882b2_row10_col10\" class=\"data row10 col10\" >208</td>\n",
       "      <td id=\"T_882b2_row10_col11\" class=\"data row10 col11\" >253</td>\n",
       "      <td id=\"T_882b2_row10_col12\" class=\"data row10 col12\" >253</td>\n",
       "      <td id=\"T_882b2_row10_col13\" class=\"data row10 col13\" >253</td>\n",
       "      <td id=\"T_882b2_row10_col14\" class=\"data row10 col14\" >253</td>\n",
       "      <td id=\"T_882b2_row10_col15\" class=\"data row10 col15\" >187</td>\n",
       "      <td id=\"T_882b2_row10_col16\" class=\"data row10 col16\" >22</td>\n",
       "      <td id=\"T_882b2_row10_col17\" class=\"data row10 col17\" >0</td>\n",
       "    </tr>\n",
       "    <tr>\n",
       "      <th id=\"T_882b2_level0_row11\" class=\"row_heading level0 row11\" >11</th>\n",
       "      <td id=\"T_882b2_row11_col0\" class=\"data row11 col0\" >0</td>\n",
       "      <td id=\"T_882b2_row11_col1\" class=\"data row11 col1\" >0</td>\n",
       "      <td id=\"T_882b2_row11_col2\" class=\"data row11 col2\" >0</td>\n",
       "      <td id=\"T_882b2_row11_col3\" class=\"data row11 col3\" >0</td>\n",
       "      <td id=\"T_882b2_row11_col4\" class=\"data row11 col4\" >0</td>\n",
       "      <td id=\"T_882b2_row11_col5\" class=\"data row11 col5\" >0</td>\n",
       "      <td id=\"T_882b2_row11_col6\" class=\"data row11 col6\" >0</td>\n",
       "      <td id=\"T_882b2_row11_col7\" class=\"data row11 col7\" >0</td>\n",
       "      <td id=\"T_882b2_row11_col8\" class=\"data row11 col8\" >0</td>\n",
       "      <td id=\"T_882b2_row11_col9\" class=\"data row11 col9\" >0</td>\n",
       "      <td id=\"T_882b2_row11_col10\" class=\"data row11 col10\" >9</td>\n",
       "      <td id=\"T_882b2_row11_col11\" class=\"data row11 col11\" >51</td>\n",
       "      <td id=\"T_882b2_row11_col12\" class=\"data row11 col12\" >119</td>\n",
       "      <td id=\"T_882b2_row11_col13\" class=\"data row11 col13\" >253</td>\n",
       "      <td id=\"T_882b2_row11_col14\" class=\"data row11 col14\" >253</td>\n",
       "      <td id=\"T_882b2_row11_col15\" class=\"data row11 col15\" >253</td>\n",
       "      <td id=\"T_882b2_row11_col16\" class=\"data row11 col16\" >76</td>\n",
       "      <td id=\"T_882b2_row11_col17\" class=\"data row11 col17\" >0</td>\n",
       "    </tr>\n",
       "    <tr>\n",
       "      <th id=\"T_882b2_level0_row12\" class=\"row_heading level0 row12\" >12</th>\n",
       "      <td id=\"T_882b2_row12_col0\" class=\"data row12 col0\" >0</td>\n",
       "      <td id=\"T_882b2_row12_col1\" class=\"data row12 col1\" >0</td>\n",
       "      <td id=\"T_882b2_row12_col2\" class=\"data row12 col2\" >0</td>\n",
       "      <td id=\"T_882b2_row12_col3\" class=\"data row12 col3\" >0</td>\n",
       "      <td id=\"T_882b2_row12_col4\" class=\"data row12 col4\" >0</td>\n",
       "      <td id=\"T_882b2_row12_col5\" class=\"data row12 col5\" >0</td>\n",
       "      <td id=\"T_882b2_row12_col6\" class=\"data row12 col6\" >0</td>\n",
       "      <td id=\"T_882b2_row12_col7\" class=\"data row12 col7\" >0</td>\n",
       "      <td id=\"T_882b2_row12_col8\" class=\"data row12 col8\" >0</td>\n",
       "      <td id=\"T_882b2_row12_col9\" class=\"data row12 col9\" >0</td>\n",
       "      <td id=\"T_882b2_row12_col10\" class=\"data row12 col10\" >0</td>\n",
       "      <td id=\"T_882b2_row12_col11\" class=\"data row12 col11\" >0</td>\n",
       "      <td id=\"T_882b2_row12_col12\" class=\"data row12 col12\" >1</td>\n",
       "      <td id=\"T_882b2_row12_col13\" class=\"data row12 col13\" >183</td>\n",
       "      <td id=\"T_882b2_row12_col14\" class=\"data row12 col14\" >253</td>\n",
       "      <td id=\"T_882b2_row12_col15\" class=\"data row12 col15\" >253</td>\n",
       "      <td id=\"T_882b2_row12_col16\" class=\"data row12 col16\" >139</td>\n",
       "      <td id=\"T_882b2_row12_col17\" class=\"data row12 col17\" >0</td>\n",
       "    </tr>\n",
       "    <tr>\n",
       "      <th id=\"T_882b2_level0_row13\" class=\"row_heading level0 row13\" >13</th>\n",
       "      <td id=\"T_882b2_row13_col0\" class=\"data row13 col0\" >0</td>\n",
       "      <td id=\"T_882b2_row13_col1\" class=\"data row13 col1\" >0</td>\n",
       "      <td id=\"T_882b2_row13_col2\" class=\"data row13 col2\" >0</td>\n",
       "      <td id=\"T_882b2_row13_col3\" class=\"data row13 col3\" >0</td>\n",
       "      <td id=\"T_882b2_row13_col4\" class=\"data row13 col4\" >0</td>\n",
       "      <td id=\"T_882b2_row13_col5\" class=\"data row13 col5\" >0</td>\n",
       "      <td id=\"T_882b2_row13_col6\" class=\"data row13 col6\" >0</td>\n",
       "      <td id=\"T_882b2_row13_col7\" class=\"data row13 col7\" >0</td>\n",
       "      <td id=\"T_882b2_row13_col8\" class=\"data row13 col8\" >0</td>\n",
       "      <td id=\"T_882b2_row13_col9\" class=\"data row13 col9\" >0</td>\n",
       "      <td id=\"T_882b2_row13_col10\" class=\"data row13 col10\" >0</td>\n",
       "      <td id=\"T_882b2_row13_col11\" class=\"data row13 col11\" >0</td>\n",
       "      <td id=\"T_882b2_row13_col12\" class=\"data row13 col12\" >0</td>\n",
       "      <td id=\"T_882b2_row13_col13\" class=\"data row13 col13\" >182</td>\n",
       "      <td id=\"T_882b2_row13_col14\" class=\"data row13 col14\" >253</td>\n",
       "      <td id=\"T_882b2_row13_col15\" class=\"data row13 col15\" >253</td>\n",
       "      <td id=\"T_882b2_row13_col16\" class=\"data row13 col16\" >104</td>\n",
       "      <td id=\"T_882b2_row13_col17\" class=\"data row13 col17\" >0</td>\n",
       "    </tr>\n",
       "    <tr>\n",
       "      <th id=\"T_882b2_level0_row14\" class=\"row_heading level0 row14\" >14</th>\n",
       "      <td id=\"T_882b2_row14_col0\" class=\"data row14 col0\" >0</td>\n",
       "      <td id=\"T_882b2_row14_col1\" class=\"data row14 col1\" >0</td>\n",
       "      <td id=\"T_882b2_row14_col2\" class=\"data row14 col2\" >0</td>\n",
       "      <td id=\"T_882b2_row14_col3\" class=\"data row14 col3\" >0</td>\n",
       "      <td id=\"T_882b2_row14_col4\" class=\"data row14 col4\" >0</td>\n",
       "      <td id=\"T_882b2_row14_col5\" class=\"data row14 col5\" >0</td>\n",
       "      <td id=\"T_882b2_row14_col6\" class=\"data row14 col6\" >0</td>\n",
       "      <td id=\"T_882b2_row14_col7\" class=\"data row14 col7\" >0</td>\n",
       "      <td id=\"T_882b2_row14_col8\" class=\"data row14 col8\" >0</td>\n",
       "      <td id=\"T_882b2_row14_col9\" class=\"data row14 col9\" >0</td>\n",
       "      <td id=\"T_882b2_row14_col10\" class=\"data row14 col10\" >0</td>\n",
       "      <td id=\"T_882b2_row14_col11\" class=\"data row14 col11\" >0</td>\n",
       "      <td id=\"T_882b2_row14_col12\" class=\"data row14 col12\" >85</td>\n",
       "      <td id=\"T_882b2_row14_col13\" class=\"data row14 col13\" >249</td>\n",
       "      <td id=\"T_882b2_row14_col14\" class=\"data row14 col14\" >253</td>\n",
       "      <td id=\"T_882b2_row14_col15\" class=\"data row14 col15\" >253</td>\n",
       "      <td id=\"T_882b2_row14_col16\" class=\"data row14 col16\" >36</td>\n",
       "      <td id=\"T_882b2_row14_col17\" class=\"data row14 col17\" >0</td>\n",
       "    </tr>\n",
       "    <tr>\n",
       "      <th id=\"T_882b2_level0_row15\" class=\"row_heading level0 row15\" >15</th>\n",
       "      <td id=\"T_882b2_row15_col0\" class=\"data row15 col0\" >0</td>\n",
       "      <td id=\"T_882b2_row15_col1\" class=\"data row15 col1\" >0</td>\n",
       "      <td id=\"T_882b2_row15_col2\" class=\"data row15 col2\" >0</td>\n",
       "      <td id=\"T_882b2_row15_col3\" class=\"data row15 col3\" >0</td>\n",
       "      <td id=\"T_882b2_row15_col4\" class=\"data row15 col4\" >0</td>\n",
       "      <td id=\"T_882b2_row15_col5\" class=\"data row15 col5\" >0</td>\n",
       "      <td id=\"T_882b2_row15_col6\" class=\"data row15 col6\" >0</td>\n",
       "      <td id=\"T_882b2_row15_col7\" class=\"data row15 col7\" >0</td>\n",
       "      <td id=\"T_882b2_row15_col8\" class=\"data row15 col8\" >0</td>\n",
       "      <td id=\"T_882b2_row15_col9\" class=\"data row15 col9\" >0</td>\n",
       "      <td id=\"T_882b2_row15_col10\" class=\"data row15 col10\" >0</td>\n",
       "      <td id=\"T_882b2_row15_col11\" class=\"data row15 col11\" >60</td>\n",
       "      <td id=\"T_882b2_row15_col12\" class=\"data row15 col12\" >214</td>\n",
       "      <td id=\"T_882b2_row15_col13\" class=\"data row15 col13\" >253</td>\n",
       "      <td id=\"T_882b2_row15_col14\" class=\"data row15 col14\" >253</td>\n",
       "      <td id=\"T_882b2_row15_col15\" class=\"data row15 col15\" >173</td>\n",
       "      <td id=\"T_882b2_row15_col16\" class=\"data row15 col16\" >11</td>\n",
       "      <td id=\"T_882b2_row15_col17\" class=\"data row15 col17\" >0</td>\n",
       "    </tr>\n",
       "    <tr>\n",
       "      <th id=\"T_882b2_level0_row16\" class=\"row_heading level0 row16\" >16</th>\n",
       "      <td id=\"T_882b2_row16_col0\" class=\"data row16 col0\" >0</td>\n",
       "      <td id=\"T_882b2_row16_col1\" class=\"data row16 col1\" >0</td>\n",
       "      <td id=\"T_882b2_row16_col2\" class=\"data row16 col2\" >0</td>\n",
       "      <td id=\"T_882b2_row16_col3\" class=\"data row16 col3\" >0</td>\n",
       "      <td id=\"T_882b2_row16_col4\" class=\"data row16 col4\" >0</td>\n",
       "      <td id=\"T_882b2_row16_col5\" class=\"data row16 col5\" >0</td>\n",
       "      <td id=\"T_882b2_row16_col6\" class=\"data row16 col6\" >0</td>\n",
       "      <td id=\"T_882b2_row16_col7\" class=\"data row16 col7\" >0</td>\n",
       "      <td id=\"T_882b2_row16_col8\" class=\"data row16 col8\" >0</td>\n",
       "      <td id=\"T_882b2_row16_col9\" class=\"data row16 col9\" >0</td>\n",
       "      <td id=\"T_882b2_row16_col10\" class=\"data row16 col10\" >98</td>\n",
       "      <td id=\"T_882b2_row16_col11\" class=\"data row16 col11\" >247</td>\n",
       "      <td id=\"T_882b2_row16_col12\" class=\"data row16 col12\" >253</td>\n",
       "      <td id=\"T_882b2_row16_col13\" class=\"data row16 col13\" >253</td>\n",
       "      <td id=\"T_882b2_row16_col14\" class=\"data row16 col14\" >226</td>\n",
       "      <td id=\"T_882b2_row16_col15\" class=\"data row16 col15\" >9</td>\n",
       "      <td id=\"T_882b2_row16_col16\" class=\"data row16 col16\" >0</td>\n",
       "      <td id=\"T_882b2_row16_col17\" class=\"data row16 col17\" >0</td>\n",
       "    </tr>\n",
       "    <tr>\n",
       "      <th id=\"T_882b2_level0_row17\" class=\"row_heading level0 row17\" >17</th>\n",
       "      <td id=\"T_882b2_row17_col0\" class=\"data row17 col0\" >0</td>\n",
       "      <td id=\"T_882b2_row17_col1\" class=\"data row17 col1\" >0</td>\n",
       "      <td id=\"T_882b2_row17_col2\" class=\"data row17 col2\" >0</td>\n",
       "      <td id=\"T_882b2_row17_col3\" class=\"data row17 col3\" >0</td>\n",
       "      <td id=\"T_882b2_row17_col4\" class=\"data row17 col4\" >0</td>\n",
       "      <td id=\"T_882b2_row17_col5\" class=\"data row17 col5\" >0</td>\n",
       "      <td id=\"T_882b2_row17_col6\" class=\"data row17 col6\" >0</td>\n",
       "      <td id=\"T_882b2_row17_col7\" class=\"data row17 col7\" >0</td>\n",
       "      <td id=\"T_882b2_row17_col8\" class=\"data row17 col8\" >42</td>\n",
       "      <td id=\"T_882b2_row17_col9\" class=\"data row17 col9\" >150</td>\n",
       "      <td id=\"T_882b2_row17_col10\" class=\"data row17 col10\" >252</td>\n",
       "      <td id=\"T_882b2_row17_col11\" class=\"data row17 col11\" >253</td>\n",
       "      <td id=\"T_882b2_row17_col12\" class=\"data row17 col12\" >253</td>\n",
       "      <td id=\"T_882b2_row17_col13\" class=\"data row17 col13\" >233</td>\n",
       "      <td id=\"T_882b2_row17_col14\" class=\"data row17 col14\" >53</td>\n",
       "      <td id=\"T_882b2_row17_col15\" class=\"data row17 col15\" >0</td>\n",
       "      <td id=\"T_882b2_row17_col16\" class=\"data row17 col16\" >0</td>\n",
       "      <td id=\"T_882b2_row17_col17\" class=\"data row17 col17\" >0</td>\n",
       "    </tr>\n",
       "    <tr>\n",
       "      <th id=\"T_882b2_level0_row18\" class=\"row_heading level0 row18\" >18</th>\n",
       "      <td id=\"T_882b2_row18_col0\" class=\"data row18 col0\" >0</td>\n",
       "      <td id=\"T_882b2_row18_col1\" class=\"data row18 col1\" >0</td>\n",
       "      <td id=\"T_882b2_row18_col2\" class=\"data row18 col2\" >42</td>\n",
       "      <td id=\"T_882b2_row18_col3\" class=\"data row18 col3\" >115</td>\n",
       "      <td id=\"T_882b2_row18_col4\" class=\"data row18 col4\" >42</td>\n",
       "      <td id=\"T_882b2_row18_col5\" class=\"data row18 col5\" >60</td>\n",
       "      <td id=\"T_882b2_row18_col6\" class=\"data row18 col6\" >115</td>\n",
       "      <td id=\"T_882b2_row18_col7\" class=\"data row18 col7\" >159</td>\n",
       "      <td id=\"T_882b2_row18_col8\" class=\"data row18 col8\" >240</td>\n",
       "      <td id=\"T_882b2_row18_col9\" class=\"data row18 col9\" >253</td>\n",
       "      <td id=\"T_882b2_row18_col10\" class=\"data row18 col10\" >253</td>\n",
       "      <td id=\"T_882b2_row18_col11\" class=\"data row18 col11\" >250</td>\n",
       "      <td id=\"T_882b2_row18_col12\" class=\"data row18 col12\" >175</td>\n",
       "      <td id=\"T_882b2_row18_col13\" class=\"data row18 col13\" >25</td>\n",
       "      <td id=\"T_882b2_row18_col14\" class=\"data row18 col14\" >0</td>\n",
       "      <td id=\"T_882b2_row18_col15\" class=\"data row18 col15\" >0</td>\n",
       "      <td id=\"T_882b2_row18_col16\" class=\"data row18 col16\" >0</td>\n",
       "      <td id=\"T_882b2_row18_col17\" class=\"data row18 col17\" >0</td>\n",
       "    </tr>\n",
       "    <tr>\n",
       "      <th id=\"T_882b2_level0_row19\" class=\"row_heading level0 row19\" >19</th>\n",
       "      <td id=\"T_882b2_row19_col0\" class=\"data row19 col0\" >0</td>\n",
       "      <td id=\"T_882b2_row19_col1\" class=\"data row19 col1\" >0</td>\n",
       "      <td id=\"T_882b2_row19_col2\" class=\"data row19 col2\" >187</td>\n",
       "      <td id=\"T_882b2_row19_col3\" class=\"data row19 col3\" >253</td>\n",
       "      <td id=\"T_882b2_row19_col4\" class=\"data row19 col4\" >253</td>\n",
       "      <td id=\"T_882b2_row19_col5\" class=\"data row19 col5\" >253</td>\n",
       "      <td id=\"T_882b2_row19_col6\" class=\"data row19 col6\" >253</td>\n",
       "      <td id=\"T_882b2_row19_col7\" class=\"data row19 col7\" >253</td>\n",
       "      <td id=\"T_882b2_row19_col8\" class=\"data row19 col8\" >253</td>\n",
       "      <td id=\"T_882b2_row19_col9\" class=\"data row19 col9\" >253</td>\n",
       "      <td id=\"T_882b2_row19_col10\" class=\"data row19 col10\" >197</td>\n",
       "      <td id=\"T_882b2_row19_col11\" class=\"data row19 col11\" >86</td>\n",
       "      <td id=\"T_882b2_row19_col12\" class=\"data row19 col12\" >0</td>\n",
       "      <td id=\"T_882b2_row19_col13\" class=\"data row19 col13\" >0</td>\n",
       "      <td id=\"T_882b2_row19_col14\" class=\"data row19 col14\" >0</td>\n",
       "      <td id=\"T_882b2_row19_col15\" class=\"data row19 col15\" >0</td>\n",
       "      <td id=\"T_882b2_row19_col16\" class=\"data row19 col16\" >0</td>\n",
       "      <td id=\"T_882b2_row19_col17\" class=\"data row19 col17\" >0</td>\n",
       "    </tr>\n",
       "    <tr>\n",
       "      <th id=\"T_882b2_level0_row20\" class=\"row_heading level0 row20\" >20</th>\n",
       "      <td id=\"T_882b2_row20_col0\" class=\"data row20 col0\" >0</td>\n",
       "      <td id=\"T_882b2_row20_col1\" class=\"data row20 col1\" >0</td>\n",
       "      <td id=\"T_882b2_row20_col2\" class=\"data row20 col2\" >103</td>\n",
       "      <td id=\"T_882b2_row20_col3\" class=\"data row20 col3\" >253</td>\n",
       "      <td id=\"T_882b2_row20_col4\" class=\"data row20 col4\" >253</td>\n",
       "      <td id=\"T_882b2_row20_col5\" class=\"data row20 col5\" >253</td>\n",
       "      <td id=\"T_882b2_row20_col6\" class=\"data row20 col6\" >253</td>\n",
       "      <td id=\"T_882b2_row20_col7\" class=\"data row20 col7\" >253</td>\n",
       "      <td id=\"T_882b2_row20_col8\" class=\"data row20 col8\" >232</td>\n",
       "      <td id=\"T_882b2_row20_col9\" class=\"data row20 col9\" >67</td>\n",
       "      <td id=\"T_882b2_row20_col10\" class=\"data row20 col10\" >1</td>\n",
       "      <td id=\"T_882b2_row20_col11\" class=\"data row20 col11\" >0</td>\n",
       "      <td id=\"T_882b2_row20_col12\" class=\"data row20 col12\" >0</td>\n",
       "      <td id=\"T_882b2_row20_col13\" class=\"data row20 col13\" >0</td>\n",
       "      <td id=\"T_882b2_row20_col14\" class=\"data row20 col14\" >0</td>\n",
       "      <td id=\"T_882b2_row20_col15\" class=\"data row20 col15\" >0</td>\n",
       "      <td id=\"T_882b2_row20_col16\" class=\"data row20 col16\" >0</td>\n",
       "      <td id=\"T_882b2_row20_col17\" class=\"data row20 col17\" >0</td>\n",
       "    </tr>\n",
       "  </tbody>\n",
       "</table>\n"
      ],
      "text/plain": [
       "<pandas.io.formats.style.Styler at 0x1eec5f8bb60>"
      ]
     },
     "execution_count": 7,
     "metadata": {},
     "output_type": "execute_result"
    }
   ],
   "source": [
    "im3_t = tensor(im3)\n",
    "df = pd.DataFrame(im3_t[4:25,4:22])\n",
    "df.style.set_properties(**{'font-size':'6pt'}).background_gradient('Greys')"
   ]
  },
  {
   "cell_type": "markdown",
   "metadata": {},
   "source": [
    "Pixel Similarity"
   ]
  },
  {
   "cell_type": "code",
   "execution_count": 8,
   "metadata": {},
   "outputs": [
    {
     "data": {
      "text/plain": [
       "(6131, 6265)"
      ]
     },
     "execution_count": 8,
     "metadata": {},
     "output_type": "execute_result"
    }
   ],
   "source": [
    "seven_tensors = [tensor(Image.open(o)) for o in sevens]\n",
    "three_tensors = [tensor(Image.open(o)) for o in threes]\n",
    "len(three_tensors),len(seven_tensors)"
   ]
  },
  {
   "cell_type": "code",
   "execution_count": 9,
   "metadata": {},
   "outputs": [
    {
     "data": {
      "text/plain": [
       "<Axes: >"
      ]
     },
     "execution_count": 9,
     "metadata": {},
     "output_type": "execute_result"
    },
    {
     "data": {
      "image/png": "[encoded data removed]",
      "text/plain": [
       "<Figure size 100x100 with 1 Axes>"
      ]
     },
     "metadata": {},
     "output_type": "display_data"
    }
   ],
   "source": [
    "show_image(three_tensors[1])"
   ]
  },
  {
   "cell_type": "markdown",
   "metadata": {},
   "source": [
    "Stacking up images"
   ]
  },
  {
   "cell_type": "code",
   "execution_count": 10,
   "metadata": {},
   "outputs": [
    {
     "data": {
      "text/plain": [
       "torch.Size([6131, 28, 28])"
      ]
     },
     "execution_count": 10,
     "metadata": {},
     "output_type": "execute_result"
    }
   ],
   "source": [
    "stacked_sevens = torch.stack(seven_tensors).float()/255\n",
    "stacked_threes = torch.stack(three_tensors).float()/255\n",
    "stacked_threes.shape"
   ]
  },
  {
   "cell_type": "code",
   "execution_count": 11,
   "metadata": {},
   "outputs": [
    {
     "data": {
      "text/plain": [
       "3"
      ]
     },
     "execution_count": 11,
     "metadata": {},
     "output_type": "execute_result"
    }
   ],
   "source": [
    "len(stacked_threes.shape) # Tensor's rank!"
   ]
  },
  {
   "cell_type": "markdown",
   "metadata": {},
   "source": [
    "Pictures' means"
   ]
  },
  {
   "cell_type": "code",
   "execution_count": 12,
   "metadata": {},
   "outputs": [
    {
     "data": {
      "text/plain": [
       "<Axes: >"
      ]
     },
     "execution_count": 12,
     "metadata": {},
     "output_type": "execute_result"
    },
    {
     "data": {
      "image/png": "[encoded data removed]",
      "text/plain": [
       "<Figure size 100x100 with 1 Axes>"
      ]
     },
     "metadata": {},
     "output_type": "display_data"
    }
   ],
   "source": [
    "mean3 = stacked_threes.mean(0)\n",
    "show_image(mean3)"
   ]
  },
  {
   "cell_type": "code",
   "execution_count": 13,
   "metadata": {},
   "outputs": [
    {
     "data": {
      "text/plain": [
       "<Axes: >"
      ]
     },
     "execution_count": 13,
     "metadata": {},
     "output_type": "execute_result"
    },
    {
     "data": {
      "image/png": "[encoded data removed]",
      "text/plain": [
       "<Figure size 100x100 with 1 Axes>"
      ]
     },
     "metadata": {},
     "output_type": "display_data"
    }
   ],
   "source": [
    "mean7 = stacked_sevens.mean(0)\n",
    "show_image(mean7)"
   ]
  },
  {
   "cell_type": "code",
   "execution_count": 14,
   "metadata": {},
   "outputs": [
    {
     "data": {
      "text/plain": [
       "<Axes: >"
      ]
     },
     "execution_count": 14,
     "metadata": {},
     "output_type": "execute_result"
    },
    {
     "data": {
      "image/png": "[encoded data removed]",
      "text/plain": [
       "<Figure size 100x100 with 1 Axes>"
      ]
     },
     "metadata": {},
     "output_type": "display_data"
    }
   ],
   "source": [
    "a_3 = stacked_threes[1]\n",
    "show_image(a_3)"
   ]
  },
  {
   "cell_type": "markdown",
   "metadata": {},
   "source": [
    "Measuring distance"
   ]
  },
  {
   "cell_type": "code",
   "execution_count": 15,
   "metadata": {},
   "outputs": [
    {
     "name": "stdout",
     "output_type": "stream",
     "text": [
      "(tensor(0.1114), tensor(0.2021))\n",
      "(tensor(0.1586), tensor(0.3021))\n"
     ]
    }
   ],
   "source": [
    "# Mean absolute difference or L1 norm\n",
    "dist_3_abs = (a_3 - mean3).abs().mean()\n",
    "\n",
    "# Root mean squared error (RMSE) or L2 norm.\n",
    "dist_3_sqr = ((a_3 - mean3)**2).mean().sqrt()\n",
    "print((dist_3_abs,dist_3_sqr))\n",
    "\n",
    "dist_7_abs = (a_3 - mean7).abs().mean()\n",
    "dist_7_sqr = ((a_3 - mean7)**2).mean().sqrt()\n",
    "print((dist_7_abs,dist_7_sqr))"
   ]
  },
  {
   "cell_type": "code",
   "execution_count": 16,
   "metadata": {},
   "outputs": [
    {
     "data": {
      "text/plain": [
       "(tensor(0.1586), tensor(0.3021))"
      ]
     },
     "execution_count": 16,
     "metadata": {},
     "output_type": "execute_result"
    }
   ],
   "source": [
    "# Calc means using PyTorch\n",
    "\n",
    "F.l1_loss(a_3.float(),mean7), F.mse_loss(a_3,mean7).sqrt()"
   ]
  },
  {
   "cell_type": "markdown",
   "metadata": {},
   "source": [
    "NumPy arrays and PyTorch tensors"
   ]
  },
  {
   "cell_type": "code",
   "execution_count": 17,
   "metadata": {},
   "outputs": [
    {
     "name": "stdout",
     "output_type": "stream",
     "text": [
      "[[1 2 3]\n",
      " [4 5 6]]\n",
      "tensor([[1, 2, 3],\n",
      "        [4, 5, 6]])\n"
     ]
    }
   ],
   "source": [
    "data = [[1,2,3],[4,5,6]]\n",
    "arr = array (data)\n",
    "tns = tensor(data)\n",
    "\n",
    "print(arr) # numpy\n",
    "print(tns) # pytorch"
   ]
  },
  {
   "cell_type": "code",
   "execution_count": 18,
   "metadata": {},
   "outputs": [
    {
     "data": {
      "text/plain": [
       "tensor([4, 5, 6])"
      ]
     },
     "execution_count": 18,
     "metadata": {},
     "output_type": "execute_result"
    }
   ],
   "source": [
    "tns[1]"
   ]
  },
  {
   "cell_type": "code",
   "execution_count": 19,
   "metadata": {},
   "outputs": [
    {
     "data": {
      "text/plain": [
       "tensor([2, 5])"
      ]
     },
     "execution_count": 19,
     "metadata": {},
     "output_type": "execute_result"
    }
   ],
   "source": [
    "tns[:,1]"
   ]
  },
  {
   "cell_type": "code",
   "execution_count": 20,
   "metadata": {},
   "outputs": [
    {
     "data": {
      "text/plain": [
       "tensor([5, 6])"
      ]
     },
     "execution_count": 20,
     "metadata": {},
     "output_type": "execute_result"
    }
   ],
   "source": [
    "tns[1,1:3] # on the second row select elems between the second and the forth elemes"
   ]
  },
  {
   "cell_type": "code",
   "execution_count": 21,
   "metadata": {},
   "outputs": [
    {
     "data": {
      "text/plain": [
       "tensor([[2, 3, 4],\n",
       "        [5, 6, 7]])"
      ]
     },
     "execution_count": 21,
     "metadata": {},
     "output_type": "execute_result"
    }
   ],
   "source": [
    "tns+1"
   ]
  },
  {
   "cell_type": "code",
   "execution_count": 22,
   "metadata": {},
   "outputs": [
    {
     "data": {
      "text/plain": [
       "tensor([[1.5000, 3.0000, 4.5000],\n",
       "        [6.0000, 7.5000, 9.0000]])"
      ]
     },
     "execution_count": 22,
     "metadata": {},
     "output_type": "execute_result"
    }
   ],
   "source": [
    "tns*1.5"
   ]
  },
  {
   "cell_type": "markdown",
   "metadata": {},
   "source": [
    "Computing Metrics Using Broadcasting\n"
   ]
  },
  {
   "cell_type": "code",
   "execution_count": 23,
   "metadata": {},
   "outputs": [
    {
     "data": {
      "text/plain": [
       "(torch.Size([1010, 28, 28]), torch.Size([1028, 28, 28]))"
      ]
     },
     "execution_count": 23,
     "metadata": {},
     "output_type": "execute_result"
    }
   ],
   "source": [
    "valid_threes = (path/'valid'/'3').ls()\n",
    "valid_threes_tensor = [tensor(Image.open(o)) for o in valid_threes]\n",
    "valid_threes_stack = torch.stack(valid_threes_tensor)\n",
    "valid_threes_norm = valid_threes_stack.float()/255\n",
    "\n",
    "valid_sevens = (path/'valid'/'7').ls().sorted()\n",
    "valid_sevens_tensor = [tensor(Image.open(o)) for o in valid_sevens]\n",
    "valid_sevens_stack = torch.stack(valid_sevens_tensor)\n",
    "valid_sevens_norm = valid_sevens_stack.float()/255\n",
    "\n",
    "valid_threes_norm.shape,valid_sevens_norm.shape"
   ]
  },
  {
   "cell_type": "code",
   "execution_count": 24,
   "metadata": {},
   "outputs": [
    {
     "name": "stdout",
     "output_type": "stream",
     "text": [
      "tensor(0.1114)\n"
     ]
    },
    {
     "data": {
      "text/plain": [
       "(tensor([0.1280, 0.1623, 0.1242,  ..., 0.1508, 0.1263, 0.1260]),\n",
       " torch.Size([1010]))"
      ]
     },
     "execution_count": 24,
     "metadata": {},
     "output_type": "execute_result"
    }
   ],
   "source": [
    "def mnist_distance(a,b): return (a-b).abs().mean((-1,-2))\n",
    "\n",
    "# distance between the example pic `a_3` and the mean picture `mean3`\n",
    "print(mnist_distance(a_3, mean3))\n",
    "\n",
    "# distance between each picture in the `valid_threes_norm` tensor and the mean picture `mean3`\n",
    "# See PyTorch broadcasting for more details\n",
    "valid_threes_dist = mnist_distance(valid_threes_norm, mean3)\n",
    "valid_threes_dist, valid_threes_dist.shape\n"
   ]
  },
  {
   "cell_type": "code",
   "execution_count": 25,
   "metadata": {},
   "outputs": [
    {
     "data": {
      "text/plain": [
       "(tensor(True), tensor(1.))"
      ]
     },
     "execution_count": 25,
     "metadata": {},
     "output_type": "execute_result"
    }
   ],
   "source": [
    "def is_3(x): return mnist_distance(x,mean3) < mnist_distance(x,mean7)\n",
    "\n",
    "is_3(a_3), is_3(a_3).float()"
   ]
  },
  {
   "cell_type": "code",
   "execution_count": 26,
   "metadata": {},
   "outputs": [
    {
     "data": {
      "text/plain": [
       "tensor([ True,  True,  True,  ..., False,  True,  True])"
      ]
     },
     "execution_count": 26,
     "metadata": {},
     "output_type": "execute_result"
    }
   ],
   "source": [
    "is_3(valid_threes_norm)"
   ]
  },
  {
   "cell_type": "code",
   "execution_count": 27,
   "metadata": {},
   "outputs": [
    {
     "data": {
      "text/plain": [
       "(tensor(0.9168), tensor(0.9854), tensor(0.9511))"
      ]
     },
     "execution_count": 27,
     "metadata": {},
     "output_type": "execute_result"
    }
   ],
   "source": [
    "accuracy_3s =      is_3(valid_threes_norm).float() .mean()\n",
    "accuracy_7s = (1 - is_3(valid_sevens_norm).float()).mean()\n",
    "\n",
    "accuracy_3s,accuracy_7s,(accuracy_3s+accuracy_7s)/2"
   ]
  },
  {
   "cell_type": "markdown",
   "metadata": {},
   "source": [
    "Stochastic Gradient Descent (SGD)"
   ]
  },
  {
   "cell_type": "code",
   "execution_count": 28,
   "metadata": {},
   "outputs": [
    {
     "data": {
      "image/svg+xml": [
       "<?xml version=\"1.0\" encoding=\"UTF-8\" standalone=\"no\"?>\n",
       "<!DOCTYPE svg PUBLIC \"-//W3C//DTD SVG 1.1//EN\"\n",
       " \"http://www.w3.org/Graphics/SVG/1.1/DTD/svg11.dtd\">\n",
       "<!-- Generated by graphviz version 2.39.20160612.1140 (20090106.0545)\n",
       " -->\n",
       "<!-- Title: G Pages: 1 -->\n",
       "<svg width=\"594pt\" height=\"78pt\"\n",
       " viewBox=\"0.00 0.00 594.09 78.00\" xmlns=\"http://www.w3.org/2000/svg\" xmlns:xlink=\"http://www.w3.org/1999/xlink\">\n",
       "<g id=\"graph0\" class=\"graph\" transform=\"scale(1 1) rotate(0) translate(4 74)\">\n",
       "<title>G</title>\n",
       "<polygon fill=\"white\" stroke=\"transparent\" points=\"-4,4 -4,-74 590.09,-74 590.09,4 -4,4\"/>\n",
       "<!-- init -->\n",
       "<g id=\"node1\" class=\"node\">\n",
       "<title>init</title>\n",
       "<ellipse fill=\"none\" stroke=\"black\" cx=\"27\" cy=\"-18\" rx=\"27\" ry=\"18\"/>\n",
       "<text text-anchor=\"middle\" x=\"27\" y=\"-14.3\" font-family=\"Times New Roman,serif\" font-size=\"14.00\">init</text>\n",
       "</g>\n",
       "<!-- predict -->\n",
       "<g id=\"node2\" class=\"node\">\n",
       "<title>predict</title>\n",
       "<ellipse fill=\"none\" stroke=\"black\" cx=\"127.4\" cy=\"-18\" rx=\"36.29\" ry=\"18\"/>\n",
       "<text text-anchor=\"middle\" x=\"127.4\" y=\"-14.3\" font-family=\"Times New Roman,serif\" font-size=\"14.00\">predict</text>\n",
       "</g>\n",
       "<!-- init&#45;&gt;predict -->\n",
       "<g id=\"edge1\" class=\"edge\">\n",
       "<title>init&#45;&gt;predict</title>\n",
       "<path fill=\"none\" stroke=\"black\" d=\"M54.11,-18C62.3,-18 71.6,-18 80.73,-18\"/>\n",
       "<polygon fill=\"black\" stroke=\"black\" points=\"80.9,-21.5 90.9,-18 80.9,-14.5 80.9,-21.5\"/>\n",
       "</g>\n",
       "<!-- loss -->\n",
       "<g id=\"node3\" class=\"node\">\n",
       "<title>loss</title>\n",
       "<ellipse fill=\"none\" stroke=\"black\" cx=\"227.79\" cy=\"-52\" rx=\"27\" ry=\"18\"/>\n",
       "<text text-anchor=\"middle\" x=\"227.79\" y=\"-48.3\" font-family=\"Times New Roman,serif\" font-size=\"14.00\">loss</text>\n",
       "</g>\n",
       "<!-- predict&#45;&gt;loss -->\n",
       "<g id=\"edge2\" class=\"edge\">\n",
       "<title>predict&#45;&gt;loss</title>\n",
       "<path fill=\"none\" stroke=\"black\" d=\"M157.65,-28.11C169.07,-32.05 182.21,-36.6 193.96,-40.65\"/>\n",
       "<polygon fill=\"black\" stroke=\"black\" points=\"192.82,-43.97 203.42,-43.92 195.11,-37.35 192.82,-43.97\"/>\n",
       "</g>\n",
       "<!-- gradient -->\n",
       "<g id=\"node4\" class=\"node\">\n",
       "<title>gradient</title>\n",
       "<ellipse fill=\"none\" stroke=\"black\" cx=\"364.44\" cy=\"-52\" rx=\"39.79\" ry=\"18\"/>\n",
       "<text text-anchor=\"middle\" x=\"364.44\" y=\"-48.3\" font-family=\"Times New Roman,serif\" font-size=\"14.00\">gradient</text>\n",
       "</g>\n",
       "<!-- loss&#45;&gt;gradient -->\n",
       "<g id=\"edge3\" class=\"edge\">\n",
       "<title>loss&#45;&gt;gradient</title>\n",
       "<path fill=\"none\" stroke=\"black\" d=\"M255.07,-52C271.95,-52 294.4,-52 314.48,-52\"/>\n",
       "<polygon fill=\"black\" stroke=\"black\" points=\"314.73,-55.5 324.73,-52 314.73,-48.5 314.73,-55.5\"/>\n",
       "</g>\n",
       "<!-- step -->\n",
       "<g id=\"node5\" class=\"node\">\n",
       "<title>step</title>\n",
       "<ellipse fill=\"none\" stroke=\"black\" cx=\"468.09\" cy=\"-18\" rx=\"27\" ry=\"18\"/>\n",
       "<text text-anchor=\"middle\" x=\"468.09\" y=\"-14.3\" font-family=\"Times New Roman,serif\" font-size=\"14.00\">step</text>\n",
       "</g>\n",
       "<!-- gradient&#45;&gt;step -->\n",
       "<g id=\"edge4\" class=\"edge\">\n",
       "<title>gradient&#45;&gt;step</title>\n",
       "<path fill=\"none\" stroke=\"black\" d=\"M396.77,-41.52C408.52,-37.59 421.92,-33.11 433.85,-29.12\"/>\n",
       "<polygon fill=\"black\" stroke=\"black\" points=\"435.08,-32.4 443.45,-25.91 432.86,-25.76 435.08,-32.4\"/>\n",
       "</g>\n",
       "<!-- step&#45;&gt;predict -->\n",
       "<g id=\"edge6\" class=\"edge\">\n",
       "<title>step&#45;&gt;predict</title>\n",
       "<path fill=\"none\" stroke=\"black\" d=\"M441.03,-18C383.74,-18 246.17,-18 174.14,-18\"/>\n",
       "<polygon fill=\"black\" stroke=\"black\" points=\"174,-14.5 164,-18 174,-21.5 174,-14.5\"/>\n",
       "<text text-anchor=\"middle\" x=\"289.79\" y=\"-21.8\" font-family=\"Times New Roman,serif\" font-size=\"14.00\">repeat</text>\n",
       "</g>\n",
       "<!-- stop -->\n",
       "<g id=\"node6\" class=\"node\">\n",
       "<title>stop</title>\n",
       "<ellipse fill=\"none\" stroke=\"black\" cx=\"559.09\" cy=\"-18\" rx=\"27\" ry=\"18\"/>\n",
       "<text text-anchor=\"middle\" x=\"559.09\" y=\"-14.3\" font-family=\"Times New Roman,serif\" font-size=\"14.00\">stop</text>\n",
       "</g>\n",
       "<!-- step&#45;&gt;stop -->\n",
       "<g id=\"edge5\" class=\"edge\">\n",
       "<title>step&#45;&gt;stop</title>\n",
       "<path fill=\"none\" stroke=\"black\" d=\"M495.31,-18C503.64,-18 513,-18 521.9,-18\"/>\n",
       "<polygon fill=\"black\" stroke=\"black\" points=\"522.05,-21.5 532.05,-18 522.05,-14.5 522.05,-21.5\"/>\n",
       "</g>\n",
       "</g>\n",
       "</svg>\n"
      ],
      "text/plain": [
       "<graphviz.sources.Source at 0x1eecb1011c0>"
      ]
     },
     "execution_count": 28,
     "metadata": {},
     "output_type": "execute_result"
    }
   ],
   "source": [
    "gv('''\n",
    "init->predict->loss->gradient->step->stop\n",
    "step->predict[label=repeat]\n",
    "''')"
   ]
  },
  {
   "cell_type": "code",
   "execution_count": 29,
   "metadata": {},
   "outputs": [
    {
     "data": {
      "text/plain": [
       "<matplotlib.collections.PathCollection at 0x1eecc34c380>"
      ]
     },
     "execution_count": 29,
     "metadata": {},
     "output_type": "execute_result"
    },
    {
     "data": {
      "image/png": "[encoded data removed]",
      "text/plain": [
       "<Figure size 600x400 with 1 Axes>"
      ]
     },
     "metadata": {},
     "output_type": "display_data"
    }
   ],
   "source": [
    "def f(x): return x**2\n",
    "plot_function(f, \"x\", \"x**2\")\n",
    "plt.scatter(-1.5, f(-1.5), color='red')"
   ]
  },
  {
   "cell_type": "code",
   "execution_count": 30,
   "metadata": {},
   "outputs": [
    {
     "name": "stdout",
     "output_type": "stream",
     "text": [
      "tensor(9., grad_fn=<PowBackward0>)\n",
      "tensor(6.)\n"
     ]
    }
   ],
   "source": [
    "xt = tensor(3.).requires_grad_() # request gradient calculation for the tensor\n",
    "yt = f(xt) # use the tensor and the func to calc a 'y' value\n",
    "print(yt)\n",
    "\n",
    "yt.backward() # calculate gradient for the f(..) function\n",
    "print(xt.grad)"
   ]
  },
  {
   "cell_type": "code",
   "execution_count": 31,
   "metadata": {},
   "outputs": [
    {
     "name": "stdout",
     "output_type": "stream",
     "text": [
      "tensor([ 0.,  1.,  2.,  3.,  4.,  5.,  6.,  7.,  8.,  9., 10., 11., 12., 13., 14., 15., 16., 17., 18., 19.])\n"
     ]
    },
    {
     "data": {
      "image/png": "[encoded data removed]",
      "text/plain": [
       "<Figure size 640x480 with 1 Axes>"
      ]
     },
     "metadata": {},
     "output_type": "display_data"
    }
   ],
   "source": [
    "time = torch.arange(0,20).float()\n",
    "print(time)\n",
    "speed = torch.randn(20)*3 + 0.75*(time-9.5)**2 + 1\n",
    "plt.scatter(time,speed);"
   ]
  },
  {
   "cell_type": "code",
   "execution_count": 32,
   "metadata": {},
   "outputs": [
    {
     "data": {
      "image/png": "[encoded data removed]",
      "text/plain": [
       "<Figure size 640x480 with 1 Axes>"
      ]
     },
     "metadata": {},
     "output_type": "display_data"
    }
   ],
   "source": [
    "def f(x, params):\n",
    "    a,b,c = params\n",
    "    return a*(x**2) + (b*x) + c\n",
    "\n",
    "def mse(preds, targets):\n",
    "    return ((preds-targets)**2).mean()\n",
    "\n",
    "params = torch.randn(3).requires_grad_()\n",
    "orig_params = params.clone()\n",
    "preds = f(time, params)\n",
    "\n",
    "def show_preds(preds, ax=None):\n",
    "    if ax is None: ax=plt.subplots()[1]\n",
    "    ax.scatter(time, speed)\n",
    "    ax.scatter(time, to_np(preds), color='red')\n",
    "    ax.set_ylim(-300,100)\n",
    "\n",
    "show_preds(preds)"
   ]
  },
  {
   "cell_type": "code",
   "execution_count": 33,
   "metadata": {},
   "outputs": [
    {
     "name": "stdout",
     "output_type": "stream",
     "text": [
      "tensor([-53195.8633,  -3419.7148,   -253.8908])\n",
      "tensor([-0.5320, -0.0342, -0.0025])\n"
     ]
    }
   ],
   "source": [
    "loss = mse(preds, speed)\n",
    "loss.backward()\n",
    "gradients = params.grad\n",
    "print(gradients)\n",
    "print(gradients * 1e-5)"
   ]
  },
  {
   "cell_type": "code",
   "execution_count": 34,
   "metadata": {},
   "outputs": [
    {
     "data": {
      "text/plain": [
       "tensor([-0.7658, -0.7506,  1.3525], requires_grad=True)"
      ]
     },
     "execution_count": 34,
     "metadata": {},
     "output_type": "execute_result"
    }
   ],
   "source": [
    "params"
   ]
  },
  {
   "cell_type": "code",
   "execution_count": 35,
   "metadata": {},
   "outputs": [],
   "source": [
    "lr = 1e-5\n",
    "params.data -= lr * params.grad.data\n",
    "params.grad = None"
   ]
  },
  {
   "cell_type": "code",
   "execution_count": 36,
   "metadata": {},
   "outputs": [
    {
     "data": {
      "text/plain": [
       "tensor(5435.5356, grad_fn=<MeanBackward0>)"
      ]
     },
     "execution_count": 36,
     "metadata": {},
     "output_type": "execute_result"
    }
   ],
   "source": [
    "preds = f(time,params)\n",
    "mse(preds, speed)"
   ]
  },
  {
   "cell_type": "code",
   "execution_count": 37,
   "metadata": {},
   "outputs": [
    {
     "data": {
      "image/png": "[encoded data removed]",
      "text/plain": [
       "<Figure size 640x480 with 1 Axes>"
      ]
     },
     "metadata": {},
     "output_type": "display_data"
    }
   ],
   "source": [
    "show_preds(preds)"
   ]
  },
  {
   "cell_type": "code",
   "execution_count": 38,
   "metadata": {},
   "outputs": [],
   "source": [
    "def apply_step(params, prn=True):\n",
    "    preds = f(time, params)\n",
    "    loss = mse(preds, speed)\n",
    "    loss.backward()\n",
    "    params.data -= lr * params.grad.data\n",
    "    params.grad = None\n",
    "    if prn: print(loss.item())\n",
    "    return preds"
   ]
  },
  {
   "cell_type": "code",
   "execution_count": 39,
   "metadata": {},
   "outputs": [
    {
     "name": "stdout",
     "output_type": "stream",
     "text": [
      "5435.53564453125\n",
      "1577.44921875\n",
      "847.3778076171875\n",
      "709.2225341796875\n",
      "683.0758056640625\n",
      "678.1243896484375\n",
      "677.1838989257812\n",
      "677.0023803710938\n",
      "676.9645385742188\n",
      "676.9537353515625\n"
     ]
    }
   ],
   "source": [
    "for i in range(10): apply_step(params)"
   ]
  },
  {
   "cell_type": "markdown",
   "metadata": {},
   "source": [
    "Plot loss func step by step"
   ]
  },
  {
   "cell_type": "code",
   "execution_count": 40,
   "metadata": {},
   "outputs": [
    {
     "data": {
      "image/png": "[encoded data removed]",
      "text/plain": [
       "<Figure size 1200x300 with 4 Axes>"
      ]
     },
     "metadata": {},
     "output_type": "display_data"
    }
   ],
   "source": [
    "_,axs = plt.subplots(1,4,figsize=(12,3))\n",
    "for ax in axs: show_preds(apply_step(params, False), ax)\n",
    "plt.tight_layout()"
   ]
  },
  {
   "cell_type": "code",
   "execution_count": 44,
   "metadata": {},
   "outputs": [
    {
     "name": "stdout",
     "output_type": "stream",
     "text": [
      "(torch.Size([12396, 784]), torch.Size([12396, 1]))\n"
     ]
    },
    {
     "data": {
      "text/plain": [
       "(torch.Size([784]), tensor([1]))"
      ]
     },
     "execution_count": 44,
     "metadata": {},
     "output_type": "execute_result"
    }
   ],
   "source": [
    "train_x = torch.cat([stacked_threes, stacked_sevens]).view(-1, 28*28)\n",
    "train_y = tensor([1]*len(threes) + [0]*len(sevens)).unsqueeze(1)\n",
    "print((train_x.shape,train_y.shape))\n",
    "\n",
    "dset = list(zip(train_x,train_y))\n",
    "x,y = dset[0]\n",
    "x.shape,y"
   ]
  },
  {
   "cell_type": "code",
   "execution_count": 46,
   "metadata": {},
   "outputs": [],
   "source": [
    "def init_params(size, std=1.0): return (torch.randn(size)*std).requires_grad_()\n",
    "\n",
    "weights = init_params((28*28,1))\n",
    "bias = init_params(1)"
   ]
  },
  {
   "cell_type": "markdown",
   "metadata": {},
   "source": [
    "Prediction to one image"
   ]
  },
  {
   "cell_type": "code",
   "execution_count": 47,
   "metadata": {},
   "outputs": [
    {
     "data": {
      "text/plain": [
       "tensor([-13.2578], grad_fn=<AddBackward0>)"
      ]
     },
     "execution_count": 47,
     "metadata": {},
     "output_type": "execute_result"
    }
   ],
   "source": [
    "(train_x[0]*weights.T).sum() + bias"
   ]
  },
  {
   "cell_type": "code",
   "execution_count": 49,
   "metadata": {},
   "outputs": [
    {
     "data": {
      "text/plain": [
       "tensor([[-13.2578],\n",
       "        [ -4.6854],\n",
       "        [-12.4631],\n",
       "        ...,\n",
       "        [-12.4170],\n",
       "        [  2.4253],\n",
       "        [  1.5262]], grad_fn=<AddBackward0>)"
      ]
     },
     "execution_count": 49,
     "metadata": {},
     "output_type": "execute_result"
    }
   ],
   "source": [
    "def linear1(xb, w, b): return xb@w + b\n",
    "preds = linear1(train_x, weights, bias)\n",
    "preds"
   ]
  },
  {
   "cell_type": "markdown",
   "metadata": {},
   "source": [
    "Check predictions"
   ]
  },
  {
   "cell_type": "code",
   "execution_count": 50,
   "metadata": {},
   "outputs": [
    {
     "data": {
      "text/plain": [
       "tensor([[False],\n",
       "        [False],\n",
       "        [False],\n",
       "        ...,\n",
       "        [ True],\n",
       "        [False],\n",
       "        [False]])"
      ]
     },
     "execution_count": 50,
     "metadata": {},
     "output_type": "execute_result"
    }
   ],
   "source": [
    "corrects = (preds>0.0).float() == train_y\n",
    "corrects"
   ]
  },
  {
   "cell_type": "code",
   "execution_count": 51,
   "metadata": {},
   "outputs": [
    {
     "data": {
      "text/plain": [
       "0.42739593982696533"
      ]
     },
     "execution_count": 51,
     "metadata": {},
     "output_type": "execute_result"
    }
   ],
   "source": [
    "corrects.float().mean().item()"
   ]
  },
  {
   "cell_type": "code",
   "execution_count": 53,
   "metadata": {},
   "outputs": [
    {
     "data": {
      "text/plain": [
       "0.42739593982696533"
      ]
     },
     "execution_count": 53,
     "metadata": {},
     "output_type": "execute_result"
    }
   ],
   "source": [
    "with torch.no_grad(): weights[0] *= 1.0001\n",
    "preds = linear1(train_x, weights, bias)\n",
    "((preds>0.0).float() == train_y).float().mean().item()"
   ]
  }
 ],
 "metadata": {
  "kernelspec": {
   "display_name": "fastbook",
   "language": "python",
   "name": "python3"
  },
  "language_info": {
   "codemirror_mode": {
    "name": "ipython",
    "version": 3
   },
   "file_extension": ".py",
   "mimetype": "text/x-python",
   "name": "python",
   "nbconvert_exporter": "python",
   "pygments_lexer": "ipython3",
   "version": "3.12.7"
  }
 },
 "nbformat": 4,
 "nbformat_minor": 2
}
